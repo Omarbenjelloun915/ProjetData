{
 "cells": [
  {
   "cell_type": "code",
   "execution_count": 106,
   "metadata": {
    "id": "xmqrsG5JuCfE"
   },
   "outputs": [],
   "source": [
    "import pandas as pd\n",
    "import numpy as np\n",
    "from sklearn.model_selection import GridSearchCV\n",
    "from sklearn.model_selection import train_test_split\n",
    "from sklearn.linear_model import LinearRegression\n",
    "from sklearn.metrics import r2_score\n",
    "from sklearn.tree import DecisionTreeRegressor\n",
    "from sklearn.ensemble import RandomForestRegressor\n",
    "from sklearn.neighbors import KNeighborsRegressor\n",
    "from xgboost import XGBRegressor\n",
    "import xgboost\n",
    "from sklearn.svm import SVR\n",
    "from sklearn.preprocessing import StandardScaler\n",
    "from sklearn.metrics import mean_absolute_error as mae\n",
    "from keras.models import *\n",
    "from keras.layers import Dense, Dropout\n",
    "from keras.optimizers import Adam\n",
    "from sklearn.ensemble import AdaBoostRegressor\n",
    "import matplotlib.pyplot as plt\n",
    "from sklearn.model_selection import RepeatedKFold,cross_val_score\n",
    "from sklearn.ensemble import StackingRegressor"
   ]
  },
  {
   "cell_type": "code",
   "execution_count": 107,
   "metadata": {
    "colab": {
     "base_uri": "https://localhost:8080/"
    },
    "id": "bM4EmbEAwUfO",
    "outputId": "e4a42622-2784-417b-e39f-d1ba0f2b906c"
   },
   "outputs": [
    {
     "name": "stderr",
     "output_type": "stream",
     "text": [
      "C:\\Users\\omabe\\anaconda3\\lib\\site-packages\\IPython\\core\\interactiveshell.py:3146: DtypeWarning: Columns (5) have mixed types.Specify dtype option on import or set low_memory=False.\n",
      "  has_raised = await self.run_ast_nodes(code_ast.body, cell_name,\n"
     ]
    }
   ],
   "source": [
    "# Importation des jeux de données\n",
    "train_df = pd.read_csv(\"certificatbigdata/train.csv\",delimiter=\",\")\n",
    "test_df = pd.read_csv(\"certificatbigdata/test.csv\",delimiter=\",\")\n",
    "store_df = pd.read_csv(\"certificatbigdata/store_metadata.csv\",delimiter=\",\")"
   ]
  },
  {
   "cell_type": "code",
   "execution_count": 108,
   "metadata": {
    "colab": {
     "base_uri": "https://localhost:8080/",
     "height": 424
    },
    "id": "Lyl7UQapzChT",
    "outputId": "e0ae1ecc-1b34-444b-a15d-115bba3a4d40"
   },
   "outputs": [
    {
     "data": {
      "text/html": [
       "<div>\n",
       "<style scoped>\n",
       "    .dataframe tbody tr th:only-of-type {\n",
       "        vertical-align: middle;\n",
       "    }\n",
       "\n",
       "    .dataframe tbody tr th {\n",
       "        vertical-align: top;\n",
       "    }\n",
       "\n",
       "    .dataframe thead th {\n",
       "        text-align: right;\n",
       "    }\n",
       "</style>\n",
       "<table border=\"1\" class=\"dataframe\">\n",
       "  <thead>\n",
       "    <tr style=\"text-align: right;\">\n",
       "      <th></th>\n",
       "      <th>id</th>\n",
       "      <th>date</th>\n",
       "      <th>customers</th>\n",
       "      <th>open</th>\n",
       "      <th>promo</th>\n",
       "      <th>state_holliday</th>\n",
       "      <th>school_holiday</th>\n",
       "      <th>y</th>\n",
       "    </tr>\n",
       "  </thead>\n",
       "  <tbody>\n",
       "    <tr>\n",
       "      <th>0</th>\n",
       "      <td>1042</td>\n",
       "      <td>2013-01-01</td>\n",
       "      <td>0</td>\n",
       "      <td>0</td>\n",
       "      <td>0</td>\n",
       "      <td>a</td>\n",
       "      <td>1</td>\n",
       "      <td>0</td>\n",
       "    </tr>\n",
       "    <tr>\n",
       "      <th>1</th>\n",
       "      <td>128</td>\n",
       "      <td>2013-01-01</td>\n",
       "      <td>0</td>\n",
       "      <td>0</td>\n",
       "      <td>0</td>\n",
       "      <td>a</td>\n",
       "      <td>1</td>\n",
       "      <td>0</td>\n",
       "    </tr>\n",
       "    <tr>\n",
       "      <th>2</th>\n",
       "      <td>420</td>\n",
       "      <td>2013-01-01</td>\n",
       "      <td>0</td>\n",
       "      <td>0</td>\n",
       "      <td>0</td>\n",
       "      <td>a</td>\n",
       "      <td>1</td>\n",
       "      <td>0</td>\n",
       "    </tr>\n",
       "    <tr>\n",
       "      <th>3</th>\n",
       "      <td>225</td>\n",
       "      <td>2013-01-01</td>\n",
       "      <td>0</td>\n",
       "      <td>0</td>\n",
       "      <td>0</td>\n",
       "      <td>a</td>\n",
       "      <td>1</td>\n",
       "      <td>0</td>\n",
       "    </tr>\n",
       "    <tr>\n",
       "      <th>4</th>\n",
       "      <td>144</td>\n",
       "      <td>2013-01-01</td>\n",
       "      <td>0</td>\n",
       "      <td>0</td>\n",
       "      <td>0</td>\n",
       "      <td>a</td>\n",
       "      <td>1</td>\n",
       "      <td>0</td>\n",
       "    </tr>\n",
       "    <tr>\n",
       "      <th>...</th>\n",
       "      <td>...</td>\n",
       "      <td>...</td>\n",
       "      <td>...</td>\n",
       "      <td>...</td>\n",
       "      <td>...</td>\n",
       "      <td>...</td>\n",
       "      <td>...</td>\n",
       "      <td>...</td>\n",
       "    </tr>\n",
       "    <tr>\n",
       "      <th>813762</th>\n",
       "      <td>757</td>\n",
       "      <td>2015-07-31</td>\n",
       "      <td>684</td>\n",
       "      <td>1</td>\n",
       "      <td>1</td>\n",
       "      <td>0</td>\n",
       "      <td>1</td>\n",
       "      <td>9343</td>\n",
       "    </tr>\n",
       "    <tr>\n",
       "      <th>813763</th>\n",
       "      <td>796</td>\n",
       "      <td>2015-07-31</td>\n",
       "      <td>769</td>\n",
       "      <td>1</td>\n",
       "      <td>1</td>\n",
       "      <td>0</td>\n",
       "      <td>1</td>\n",
       "      <td>8913</td>\n",
       "    </tr>\n",
       "    <tr>\n",
       "      <th>813764</th>\n",
       "      <td>230</td>\n",
       "      <td>2015-07-31</td>\n",
       "      <td>1091</td>\n",
       "      <td>1</td>\n",
       "      <td>1</td>\n",
       "      <td>0</td>\n",
       "      <td>1</td>\n",
       "      <td>10988</td>\n",
       "    </tr>\n",
       "    <tr>\n",
       "      <th>813765</th>\n",
       "      <td>387</td>\n",
       "      <td>2015-07-31</td>\n",
       "      <td>1402</td>\n",
       "      <td>1</td>\n",
       "      <td>1</td>\n",
       "      <td>0</td>\n",
       "      <td>1</td>\n",
       "      <td>14533</td>\n",
       "    </tr>\n",
       "    <tr>\n",
       "      <th>813766</th>\n",
       "      <td>935</td>\n",
       "      <td>2015-07-31</td>\n",
       "      <td>802</td>\n",
       "      <td>1</td>\n",
       "      <td>1</td>\n",
       "      <td>0</td>\n",
       "      <td>1</td>\n",
       "      <td>8941</td>\n",
       "    </tr>\n",
       "  </tbody>\n",
       "</table>\n",
       "<p>813767 rows × 8 columns</p>\n",
       "</div>"
      ],
      "text/plain": [
       "          id        date  customers  open  promo state_holliday  \\\n",
       "0       1042  2013-01-01          0     0      0              a   \n",
       "1        128  2013-01-01          0     0      0              a   \n",
       "2        420  2013-01-01          0     0      0              a   \n",
       "3        225  2013-01-01          0     0      0              a   \n",
       "4        144  2013-01-01          0     0      0              a   \n",
       "...      ...         ...        ...   ...    ...            ...   \n",
       "813762   757  2015-07-31        684     1      1              0   \n",
       "813763   796  2015-07-31        769     1      1              0   \n",
       "813764   230  2015-07-31       1091     1      1              0   \n",
       "813765   387  2015-07-31       1402     1      1              0   \n",
       "813766   935  2015-07-31        802     1      1              0   \n",
       "\n",
       "        school_holiday      y  \n",
       "0                    1      0  \n",
       "1                    1      0  \n",
       "2                    1      0  \n",
       "3                    1      0  \n",
       "4                    1      0  \n",
       "...                ...    ...  \n",
       "813762               1   9343  \n",
       "813763               1   8913  \n",
       "813764               1  10988  \n",
       "813765               1  14533  \n",
       "813766               1   8941  \n",
       "\n",
       "[813767 rows x 8 columns]"
      ]
     },
     "execution_count": 108,
     "metadata": {},
     "output_type": "execute_result"
    }
   ],
   "source": [
    "train_df"
   ]
  },
  {
   "cell_type": "code",
   "execution_count": 109,
   "metadata": {
    "colab": {
     "base_uri": "https://localhost:8080/",
     "height": 424
    },
    "id": "4Ykyd7EAzyY8",
    "outputId": "6865a519-a067-41bf-8ef7-33f34f38b5a5"
   },
   "outputs": [
    {
     "data": {
      "text/html": [
       "<div>\n",
       "<style scoped>\n",
       "    .dataframe tbody tr th:only-of-type {\n",
       "        vertical-align: middle;\n",
       "    }\n",
       "\n",
       "    .dataframe tbody tr th {\n",
       "        vertical-align: top;\n",
       "    }\n",
       "\n",
       "    .dataframe thead th {\n",
       "        text-align: right;\n",
       "    }\n",
       "</style>\n",
       "<table border=\"1\" class=\"dataframe\">\n",
       "  <thead>\n",
       "    <tr style=\"text-align: right;\">\n",
       "      <th></th>\n",
       "      <th>id</th>\n",
       "      <th>store_type</th>\n",
       "      <th>assortment</th>\n",
       "      <th>promo_interval</th>\n",
       "    </tr>\n",
       "  </thead>\n",
       "  <tbody>\n",
       "    <tr>\n",
       "      <th>0</th>\n",
       "      <td>1</td>\n",
       "      <td>c</td>\n",
       "      <td>a</td>\n",
       "      <td>NaN</td>\n",
       "    </tr>\n",
       "    <tr>\n",
       "      <th>1</th>\n",
       "      <td>2</td>\n",
       "      <td>a</td>\n",
       "      <td>a</td>\n",
       "      <td>Jan,Apr,Jul,Oct</td>\n",
       "    </tr>\n",
       "    <tr>\n",
       "      <th>2</th>\n",
       "      <td>3</td>\n",
       "      <td>a</td>\n",
       "      <td>a</td>\n",
       "      <td>Jan,Apr,Jul,Oct</td>\n",
       "    </tr>\n",
       "    <tr>\n",
       "      <th>3</th>\n",
       "      <td>4</td>\n",
       "      <td>c</td>\n",
       "      <td>c</td>\n",
       "      <td>NaN</td>\n",
       "    </tr>\n",
       "    <tr>\n",
       "      <th>4</th>\n",
       "      <td>5</td>\n",
       "      <td>a</td>\n",
       "      <td>a</td>\n",
       "      <td>NaN</td>\n",
       "    </tr>\n",
       "    <tr>\n",
       "      <th>...</th>\n",
       "      <td>...</td>\n",
       "      <td>...</td>\n",
       "      <td>...</td>\n",
       "      <td>...</td>\n",
       "    </tr>\n",
       "    <tr>\n",
       "      <th>1110</th>\n",
       "      <td>1111</td>\n",
       "      <td>a</td>\n",
       "      <td>a</td>\n",
       "      <td>Jan,Apr,Jul,Oct</td>\n",
       "    </tr>\n",
       "    <tr>\n",
       "      <th>1111</th>\n",
       "      <td>1112</td>\n",
       "      <td>c</td>\n",
       "      <td>c</td>\n",
       "      <td>NaN</td>\n",
       "    </tr>\n",
       "    <tr>\n",
       "      <th>1112</th>\n",
       "      <td>1113</td>\n",
       "      <td>a</td>\n",
       "      <td>c</td>\n",
       "      <td>NaN</td>\n",
       "    </tr>\n",
       "    <tr>\n",
       "      <th>1113</th>\n",
       "      <td>1114</td>\n",
       "      <td>a</td>\n",
       "      <td>c</td>\n",
       "      <td>NaN</td>\n",
       "    </tr>\n",
       "    <tr>\n",
       "      <th>1114</th>\n",
       "      <td>1115</td>\n",
       "      <td>d</td>\n",
       "      <td>c</td>\n",
       "      <td>Mar,Jun,Sept,Dec</td>\n",
       "    </tr>\n",
       "  </tbody>\n",
       "</table>\n",
       "<p>1115 rows × 4 columns</p>\n",
       "</div>"
      ],
      "text/plain": [
       "        id store_type assortment    promo_interval\n",
       "0        1          c          a               NaN\n",
       "1        2          a          a   Jan,Apr,Jul,Oct\n",
       "2        3          a          a   Jan,Apr,Jul,Oct\n",
       "3        4          c          c               NaN\n",
       "4        5          a          a               NaN\n",
       "...    ...        ...        ...               ...\n",
       "1110  1111          a          a   Jan,Apr,Jul,Oct\n",
       "1111  1112          c          c               NaN\n",
       "1112  1113          a          c               NaN\n",
       "1113  1114          a          c               NaN\n",
       "1114  1115          d          c  Mar,Jun,Sept,Dec\n",
       "\n",
       "[1115 rows x 4 columns]"
      ]
     },
     "execution_count": 109,
     "metadata": {},
     "output_type": "execute_result"
    }
   ],
   "source": [
    "store_df"
   ]
  },
  {
   "cell_type": "markdown",
   "metadata": {
    "id": "R1oDet3J2yQ_"
   },
   "source": [
    "# DATA CLEANING"
   ]
  },
  {
   "cell_type": "code",
   "execution_count": 110,
   "metadata": {
    "colab": {
     "base_uri": "https://localhost:8080/"
    },
    "id": "inQjEUvTz2K8",
    "outputId": "22619171-febd-4901-ca6f-cfa23167a6b8"
   },
   "outputs": [
    {
     "name": "stdout",
     "output_type": "stream",
     "text": [
      "<class 'pandas.core.frame.DataFrame'>\n",
      "RangeIndex: 813767 entries, 0 to 813766\n",
      "Data columns (total 8 columns):\n",
      " #   Column          Non-Null Count   Dtype \n",
      "---  ------          --------------   ----- \n",
      " 0   id              813767 non-null  int64 \n",
      " 1   date            813767 non-null  object\n",
      " 2   customers       813767 non-null  int64 \n",
      " 3   open            813767 non-null  int64 \n",
      " 4   promo           813767 non-null  int64 \n",
      " 5   state_holliday  813767 non-null  object\n",
      " 6   school_holiday  813767 non-null  int64 \n",
      " 7   y               813767 non-null  int64 \n",
      "dtypes: int64(6), object(2)\n",
      "memory usage: 49.7+ MB\n"
     ]
    }
   ],
   "source": [
    "train_df.info()\n"
   ]
  },
  {
   "cell_type": "code",
   "execution_count": 111,
   "metadata": {
    "colab": {
     "base_uri": "https://localhost:8080/"
    },
    "id": "ysvwhOmr03DK",
    "outputId": "abcfb97c-12e7-4fb8-a034-1ff48e9df5e3"
   },
   "outputs": [
    {
     "data": {
      "text/plain": [
       "id                0\n",
       "date              0\n",
       "customers         0\n",
       "open              0\n",
       "promo             0\n",
       "state_holliday    0\n",
       "school_holiday    0\n",
       "y                 0\n",
       "dtype: int64"
      ]
     },
     "execution_count": 111,
     "metadata": {},
     "output_type": "execute_result"
    }
   ],
   "source": [
    "# On remarque que les données d'entrainement ne contiennent pas de valeurs NaN\n",
    "train_df.isna().sum()"
   ]
  },
  {
   "cell_type": "code",
   "execution_count": 112,
   "metadata": {
    "id": "uypzYadZ04jo"
   },
   "outputs": [],
   "source": [
    "# Supprimer les données dupliquées\n",
    "train_df = train_df.drop_duplicates()"
   ]
  },
  {
   "cell_type": "code",
   "execution_count": 113,
   "metadata": {
    "colab": {
     "base_uri": "https://localhost:8080/"
    },
    "id": "BJRh5LOJ3cA1",
    "outputId": "66759951-281d-4baa-b9ee-4dd364be8a3f"
   },
   "outputs": [
    {
     "name": "stdout",
     "output_type": "stream",
     "text": [
      "unique open values :[0 1]\n",
      "unique promo values :[0 1]\n",
      "unique state_holliday values :['a' '0' 'b' 'c' 0]\n",
      "unique school_holiday values :[1 0]\n"
     ]
    }
   ],
   "source": [
    "print(f\"unique open values :{train_df['open'].unique()}\")\n",
    "print(f\"unique promo values :{train_df['promo'].unique()}\")\n",
    "print(f\"unique state_holliday values :{train_df['state_holliday'].unique()}\")\n",
    "print(f\"unique school_holiday values :{train_df['school_holiday'].unique()}\")"
   ]
  },
  {
   "cell_type": "markdown",
   "metadata": {
    "id": "GtdhWk5D6n0f"
   },
   "source": [
    "### state_holliday"
   ]
  },
  {
   "cell_type": "code",
   "execution_count": 114,
   "metadata": {
    "colab": {
     "base_uri": "https://localhost:8080/"
    },
    "id": "j4KeIFoL37ks",
    "outputId": "c8f20882-1199-4f2e-e516-5946ac942c62"
   },
   "outputs": [
    {
     "data": {
      "text/plain": [
       "0    761641\n",
       "0     27335\n",
       "a     16201\n",
       "b      5322\n",
       "c      3268\n",
       "Name: state_holliday, dtype: int64"
      ]
     },
     "execution_count": 114,
     "metadata": {},
     "output_type": "execute_result"
    }
   ],
   "source": [
    "# Observer les valeurs possibles de state_holliday\n",
    "train_df['state_holliday'].value_counts()"
   ]
  },
  {
   "cell_type": "code",
   "execution_count": 115,
   "metadata": {
    "id": "N_vWkWz74hkJ"
   },
   "outputs": [],
   "source": [
    "# Puisque state_holiday est binaire, on considère '0' , 0 => 0 et 'a','b','c' => 1\n",
    "train_df['state_holliday'] = train_df['state_holliday'].apply(lambda x : 0 if str(x)==\"0\" else 1)\n",
    "test_df['state_holliday'] = test_df['state_holliday'].apply(lambda x : 0 if str(x)==\"0\" else 1)"
   ]
  },
  {
   "cell_type": "code",
   "execution_count": 116,
   "metadata": {
    "colab": {
     "base_uri": "https://localhost:8080/"
    },
    "id": "Zmx_q2_v6iI3",
    "outputId": "8e9fb744-2fa9-48e9-8ebe-be32ffa4419d"
   },
   "outputs": [
    {
     "data": {
      "text/plain": [
       "0    788976\n",
       "1     24791\n",
       "Name: state_holliday, dtype: int64"
      ]
     },
     "execution_count": 116,
     "metadata": {},
     "output_type": "execute_result"
    }
   ],
   "source": [
    "train_df['state_holliday'].value_counts()"
   ]
  },
  {
   "cell_type": "markdown",
   "metadata": {
    "id": "jZYVjfl06qSn"
   },
   "source": [
    "### Open Var"
   ]
  },
  {
   "cell_type": "code",
   "execution_count": 117,
   "metadata": {
    "colab": {
     "base_uri": "https://localhost:8080/",
     "height": 49
    },
    "id": "Paiw1F4n7fge",
    "outputId": "4b87f081-b7f7-4caf-b821-63e047979e63"
   },
   "outputs": [
    {
     "data": {
      "text/html": [
       "<div>\n",
       "<style scoped>\n",
       "    .dataframe tbody tr th:only-of-type {\n",
       "        vertical-align: middle;\n",
       "    }\n",
       "\n",
       "    .dataframe tbody tr th {\n",
       "        vertical-align: top;\n",
       "    }\n",
       "\n",
       "    .dataframe thead th {\n",
       "        text-align: right;\n",
       "    }\n",
       "</style>\n",
       "<table border=\"1\" class=\"dataframe\">\n",
       "  <thead>\n",
       "    <tr style=\"text-align: right;\">\n",
       "      <th></th>\n",
       "      <th>id</th>\n",
       "      <th>date</th>\n",
       "      <th>customers</th>\n",
       "      <th>open</th>\n",
       "      <th>promo</th>\n",
       "      <th>state_holliday</th>\n",
       "      <th>school_holiday</th>\n",
       "      <th>y</th>\n",
       "    </tr>\n",
       "  </thead>\n",
       "  <tbody>\n",
       "  </tbody>\n",
       "</table>\n",
       "</div>"
      ],
      "text/plain": [
       "Empty DataFrame\n",
       "Columns: [id, date, customers, open, promo, state_holliday, school_holiday, y]\n",
       "Index: []"
      ]
     },
     "execution_count": 117,
     "metadata": {},
     "output_type": "execute_result"
    }
   ],
   "source": [
    "# Voir si on dispose dans la base de données un magasin ouvert avec un volume des ventes positif\n",
    "train_df[(train_df['open']==0) & (train_df['y']>0)]"
   ]
  },
  {
   "cell_type": "code",
   "execution_count": 118,
   "metadata": {
    "colab": {
     "base_uri": "https://localhost:8080/"
    },
    "id": "39tMS75x8ZT6",
    "outputId": "98495688-2bf6-4f04-f68c-80f1e8994433"
   },
   "outputs": [
    {
     "data": {
      "text/plain": [
       "0"
      ]
     },
     "execution_count": 118,
     "metadata": {},
     "output_type": "execute_result"
    }
   ],
   "source": [
    "# Volume de ventes est toujours positif\n",
    "train_df['y'].min()"
   ]
  },
  {
   "cell_type": "code",
   "execution_count": 119,
   "metadata": {
    "colab": {
     "base_uri": "https://localhost:8080/",
     "height": 49
    },
    "id": "0__loNNe9BGb",
    "outputId": "eaa0366c-14db-4b7f-858b-a3a1e088924c"
   },
   "outputs": [
    {
     "data": {
      "text/html": [
       "<div>\n",
       "<style scoped>\n",
       "    .dataframe tbody tr th:only-of-type {\n",
       "        vertical-align: middle;\n",
       "    }\n",
       "\n",
       "    .dataframe tbody tr th {\n",
       "        vertical-align: top;\n",
       "    }\n",
       "\n",
       "    .dataframe thead th {\n",
       "        text-align: right;\n",
       "    }\n",
       "</style>\n",
       "<table border=\"1\" class=\"dataframe\">\n",
       "  <thead>\n",
       "    <tr style=\"text-align: right;\">\n",
       "      <th></th>\n",
       "      <th>id</th>\n",
       "      <th>date</th>\n",
       "      <th>customers</th>\n",
       "      <th>open</th>\n",
       "      <th>promo</th>\n",
       "      <th>state_holliday</th>\n",
       "      <th>school_holiday</th>\n",
       "      <th>y</th>\n",
       "    </tr>\n",
       "  </thead>\n",
       "  <tbody>\n",
       "  </tbody>\n",
       "</table>\n",
       "</div>"
      ],
      "text/plain": [
       "Empty DataFrame\n",
       "Columns: [id, date, customers, open, promo, state_holliday, school_holiday, y]\n",
       "Index: []"
      ]
     },
     "execution_count": 119,
     "metadata": {},
     "output_type": "execute_result"
    }
   ],
   "source": [
    "test_df[(test_df['open']==0) & (test_df['y']>0)]"
   ]
  },
  {
   "cell_type": "code",
   "execution_count": 120,
   "metadata": {
    "colab": {
     "base_uri": "https://localhost:8080/"
    },
    "id": "YrGypdcv9G7n",
    "outputId": "c94bcf24-49ae-4adc-9094-613b550f23d5"
   },
   "outputs": [
    {
     "data": {
      "text/plain": [
       "0"
      ]
     },
     "execution_count": 120,
     "metadata": {},
     "output_type": "execute_result"
    }
   ],
   "source": [
    "test_df['y'].min()"
   ]
  },
  {
   "cell_type": "code",
   "execution_count": 121,
   "metadata": {
    "id": "wEbO09C_9Ju9"
   },
   "outputs": [],
   "source": [
    "# On déduit qu'on pourra nous en passer de l'input 'open' car quand ce n'est pas open la valeur y est nulle\n",
    "\n",
    "#train_df = train_df.drop(columns=['open'])\n",
    "#test_df = test_df.drop(columns=['open'])"
   ]
  },
  {
   "cell_type": "code",
   "execution_count": 122,
   "metadata": {
    "colab": {
     "base_uri": "https://localhost:8080/"
    },
    "id": "NucxuffH9mb9",
    "outputId": "5463183d-101b-4c13-be94-d917efe74d48"
   },
   "outputs": [
    {
     "data": {
      "text/plain": [
       "True    813767\n",
       "Name: date, dtype: int64"
      ]
     },
     "execution_count": 122,
     "metadata": {},
     "output_type": "execute_result"
    }
   ],
   "source": [
    "# Vérifier si la variable Date ne prends pas des valeurs abérrantes\n",
    "\n",
    "def chack_date(date):\n",
    "  L = date.split('-')\n",
    "  return len(L)==3 and len(L[0])==4 and len(L[1])==2 and len(L[2])==2\n",
    "train_df['date'].apply(chack_date).value_counts()"
   ]
  },
  {
   "cell_type": "code",
   "execution_count": 123,
   "metadata": {
    "id": "83RtbBfN6kiK"
   },
   "outputs": [],
   "source": [
    "import seaborn as sns"
   ]
  },
  {
   "cell_type": "code",
   "execution_count": 124,
   "metadata": {
    "colab": {
     "base_uri": "https://localhost:8080/",
     "height": 351
    },
    "id": "iND-t5Ox7W1i",
    "outputId": "5da387ee-f87f-4e54-d323-76c716313852",
    "scrolled": true
   },
   "outputs": [
    {
     "data": {
      "text/plain": [
       "<AxesSubplot:>"
      ]
     },
     "execution_count": 124,
     "metadata": {},
     "output_type": "execute_result"
    },
    {
     "data": {
      "image/png": "[encoded data removed]",
      "text/plain": [
       "<Figure size 432x288 with 2 Axes>"
      ]
     },
     "metadata": {
      "needs_background": "light"
     },
     "output_type": "display_data"
    }
   ],
   "source": [
    "# Corrélation entre la variables; on remarque que le nombre de clients a une grande influence sur la nombre de ventes\n",
    "\n",
    "sns.heatmap(train_df.drop(columns=['id']).corr(), annot=True)"
   ]
  },
  {
   "cell_type": "code",
   "execution_count": 125,
   "metadata": {
    "colab": {
     "base_uri": "https://localhost:8080/",
     "height": 1000
    },
    "id": "nLhOZC69-o6d",
    "outputId": "bc3e11a5-aefb-485a-92dd-4f83814996b0"
   },
   "outputs": [],
   "source": [
    "# On remarque aussi qu'il y a une corrélation linéaire entre 'customers' et 'y'\n",
    "\n",
    "#pd.plotting.scatter_matrix(train_df.drop(columns=['id','date']).sample(50000), alpha=0.2, figsize=(15,15))"
   ]
  },
  {
   "cell_type": "markdown",
   "metadata": {
    "id": "_h4Cur9T_J39"
   },
   "source": [
    "## Store "
   ]
  },
  {
   "cell_type": "code",
   "execution_count": 126,
   "metadata": {
    "colab": {
     "base_uri": "https://localhost:8080/"
    },
    "id": "61MzItpx5TuR",
    "outputId": "39e4e0e7-dbf5-401d-9cd2-e5a487d00a27"
   },
   "outputs": [
    {
     "data": {
      "text/plain": [
       "a    602\n",
       "d    348\n",
       "c    148\n",
       "b     17\n",
       "Name: store_type, dtype: int64"
      ]
     },
     "execution_count": 126,
     "metadata": {},
     "output_type": "execute_result"
    }
   ],
   "source": [
    "# Les valeurs possibles de 'store_type'\n",
    "\n",
    "store_df['store_type'].value_counts()"
   ]
  },
  {
   "cell_type": "code",
   "execution_count": 127,
   "metadata": {
    "colab": {
     "base_uri": "https://localhost:8080/"
    },
    "id": "UUZphNZk9hWr",
    "outputId": "9e793058-176a-43e2-990e-21366d116115"
   },
   "outputs": [
    {
     "data": {
      "text/plain": [
       "a    593\n",
       "c    513\n",
       "b      9\n",
       "Name: assortment, dtype: int64"
      ]
     },
     "execution_count": 127,
     "metadata": {},
     "output_type": "execute_result"
    }
   ],
   "source": [
    "# Les valeurs possibles de 'assortment'\n",
    "\n",
    "store_df['assortment'].value_counts()"
   ]
  },
  {
   "cell_type": "code",
   "execution_count": 128,
   "metadata": {
    "colab": {
     "base_uri": "https://localhost:8080/"
    },
    "id": "mAcCBZCP-SnI",
    "outputId": "d879b01d-e06e-4b23-eb08-6b5209ff51b5"
   },
   "outputs": [
    {
     "data": {
      "text/plain": [
       "Jan,Apr,Jul,Oct     335\n",
       "Feb,May,Aug,Nov     130\n",
       "Mar,Jun,Sept,Dec    106\n",
       "Name: promo_interval, dtype: int64"
      ]
     },
     "execution_count": 128,
     "metadata": {},
     "output_type": "execute_result"
    }
   ],
   "source": [
    "# Les valeurs possibles de 'promo_interval'\n",
    "\n",
    "store_df['promo_interval'].value_counts()"
   ]
  },
  {
   "cell_type": "code",
   "execution_count": 129,
   "metadata": {},
   "outputs": [
    {
     "data": {
      "text/plain": [
       "0    503121\n",
       "1    310646\n",
       "Name: promo, dtype: int64"
      ]
     },
     "execution_count": 129,
     "metadata": {},
     "output_type": "execute_result"
    }
   ],
   "source": [
    "train_df['promo'].value_counts()"
   ]
  },
  {
   "cell_type": "code",
   "execution_count": 130,
   "metadata": {},
   "outputs": [
    {
     "data": {
      "text/html": [
       "<div>\n",
       "<style scoped>\n",
       "    .dataframe tbody tr th:only-of-type {\n",
       "        vertical-align: middle;\n",
       "    }\n",
       "\n",
       "    .dataframe tbody tr th {\n",
       "        vertical-align: top;\n",
       "    }\n",
       "\n",
       "    .dataframe thead th {\n",
       "        text-align: right;\n",
       "    }\n",
       "</style>\n",
       "<table border=\"1\" class=\"dataframe\">\n",
       "  <thead>\n",
       "    <tr style=\"text-align: right;\">\n",
       "      <th></th>\n",
       "      <th>id</th>\n",
       "      <th>Avgy</th>\n",
       "      <th>Avgcustomers</th>\n",
       "      <th>AvgSalesPerCustomers</th>\n",
       "      <th>store_type</th>\n",
       "      <th>assortment</th>\n",
       "      <th>promo_interval</th>\n",
       "    </tr>\n",
       "  </thead>\n",
       "  <tbody>\n",
       "    <tr>\n",
       "      <th>0</th>\n",
       "      <td>1</td>\n",
       "      <td>3950.539370</td>\n",
       "      <td>467.883202</td>\n",
       "      <td>8.397500</td>\n",
       "      <td>c</td>\n",
       "      <td>a</td>\n",
       "      <td>NaN</td>\n",
       "    </tr>\n",
       "    <tr>\n",
       "      <th>1</th>\n",
       "      <td>2</td>\n",
       "      <td>4117.196078</td>\n",
       "      <td>485.605229</td>\n",
       "      <td>8.408104</td>\n",
       "      <td>a</td>\n",
       "      <td>a</td>\n",
       "      <td>Jan,Apr,Jul,Oct</td>\n",
       "    </tr>\n",
       "    <tr>\n",
       "      <th>2</th>\n",
       "      <td>3</td>\n",
       "      <td>5850.149194</td>\n",
       "      <td>630.470430</td>\n",
       "      <td>9.138877</td>\n",
       "      <td>a</td>\n",
       "      <td>a</td>\n",
       "      <td>Jan,Apr,Jul,Oct</td>\n",
       "    </tr>\n",
       "    <tr>\n",
       "      <th>3</th>\n",
       "      <td>4</td>\n",
       "      <td>8028.679245</td>\n",
       "      <td>1102.529650</td>\n",
       "      <td>7.243965</td>\n",
       "      <td>c</td>\n",
       "      <td>c</td>\n",
       "      <td>NaN</td>\n",
       "    </tr>\n",
       "    <tr>\n",
       "      <th>4</th>\n",
       "      <td>5</td>\n",
       "      <td>3873.781291</td>\n",
       "      <td>445.283267</td>\n",
       "      <td>8.609952</td>\n",
       "      <td>a</td>\n",
       "      <td>a</td>\n",
       "      <td>NaN</td>\n",
       "    </tr>\n",
       "  </tbody>\n",
       "</table>\n",
       "</div>"
      ],
      "text/plain": [
       "   id         Avgy  Avgcustomers  AvgSalesPerCustomers store_type assortment  \\\n",
       "0   1  3950.539370    467.883202              8.397500          c          a   \n",
       "1   2  4117.196078    485.605229              8.408104          a          a   \n",
       "2   3  5850.149194    630.470430              9.138877          a          a   \n",
       "3   4  8028.679245   1102.529650              7.243965          c          c   \n",
       "4   5  3873.781291    445.283267              8.609952          a          a   \n",
       "\n",
       "    promo_interval  \n",
       "0              NaN  \n",
       "1  Jan,Apr,Jul,Oct  \n",
       "2  Jan,Apr,Jul,Oct  \n",
       "3              NaN  \n",
       "4              NaN  "
      ]
     },
     "execution_count": 130,
     "metadata": {},
     "output_type": "execute_result"
    }
   ],
   "source": [
    "# Rajouter la variable y/customers\n",
    "\n",
    "train_df['SalesPerCustomers'] = train_df['y'] / train_df['customers']\n",
    "\n",
    "avg_store = train_df.groupby('id')[['y', 'customers', 'SalesPerCustomers']].mean()\n",
    "avg_store.rename(columns=lambda x: 'Avg' + x, inplace=True)\n",
    "store_df = pd.merge(avg_store.reset_index(), store_df, on='id')\n",
    "store_df.head()"
   ]
  },
  {
   "cell_type": "code",
   "execution_count": 131,
   "metadata": {},
   "outputs": [
    {
     "name": "stderr",
     "output_type": "stream",
     "text": [
      "<ipython-input-131-df9ea89b12cf>:8: FutureWarning: Series.dt.weekofyear and Series.dt.week have been deprecated.  Please use Series.dt.isocalendar().week instead.\n",
      "  train_df['week_of_year'] = pd.to_datetime(train_df['date']).dt.weekofyear\n",
      "<ipython-input-131-df9ea89b12cf>:9: FutureWarning: Series.dt.weekofyear and Series.dt.week have been deprecated.  Please use Series.dt.isocalendar().week instead.\n",
      "  test_df['week_of_year'] = pd.to_datetime(test_df['date']).dt.weekofyear\n"
     ]
    },
    {
     "data": {
      "text/html": [
       "<div>\n",
       "<style scoped>\n",
       "    .dataframe tbody tr th:only-of-type {\n",
       "        vertical-align: middle;\n",
       "    }\n",
       "\n",
       "    .dataframe tbody tr th {\n",
       "        vertical-align: top;\n",
       "    }\n",
       "\n",
       "    .dataframe thead th {\n",
       "        text-align: right;\n",
       "    }\n",
       "</style>\n",
       "<table border=\"1\" class=\"dataframe\">\n",
       "  <thead>\n",
       "    <tr style=\"text-align: right;\">\n",
       "      <th></th>\n",
       "      <th>id</th>\n",
       "      <th>date</th>\n",
       "      <th>customers</th>\n",
       "      <th>open</th>\n",
       "      <th>promo</th>\n",
       "      <th>state_holliday</th>\n",
       "      <th>school_holiday</th>\n",
       "      <th>y</th>\n",
       "      <th>SalesPerCustomers</th>\n",
       "      <th>day_of_week</th>\n",
       "      <th>day_of_year</th>\n",
       "      <th>week_of_year</th>\n",
       "    </tr>\n",
       "  </thead>\n",
       "  <tbody>\n",
       "    <tr>\n",
       "      <th>0</th>\n",
       "      <td>1042</td>\n",
       "      <td>2013-01-01</td>\n",
       "      <td>0</td>\n",
       "      <td>0</td>\n",
       "      <td>0</td>\n",
       "      <td>1</td>\n",
       "      <td>1</td>\n",
       "      <td>0</td>\n",
       "      <td>NaN</td>\n",
       "      <td>1</td>\n",
       "      <td>1</td>\n",
       "      <td>1</td>\n",
       "    </tr>\n",
       "    <tr>\n",
       "      <th>1</th>\n",
       "      <td>128</td>\n",
       "      <td>2013-01-01</td>\n",
       "      <td>0</td>\n",
       "      <td>0</td>\n",
       "      <td>0</td>\n",
       "      <td>1</td>\n",
       "      <td>1</td>\n",
       "      <td>0</td>\n",
       "      <td>NaN</td>\n",
       "      <td>1</td>\n",
       "      <td>1</td>\n",
       "      <td>1</td>\n",
       "    </tr>\n",
       "    <tr>\n",
       "      <th>2</th>\n",
       "      <td>420</td>\n",
       "      <td>2013-01-01</td>\n",
       "      <td>0</td>\n",
       "      <td>0</td>\n",
       "      <td>0</td>\n",
       "      <td>1</td>\n",
       "      <td>1</td>\n",
       "      <td>0</td>\n",
       "      <td>NaN</td>\n",
       "      <td>1</td>\n",
       "      <td>1</td>\n",
       "      <td>1</td>\n",
       "    </tr>\n",
       "    <tr>\n",
       "      <th>3</th>\n",
       "      <td>225</td>\n",
       "      <td>2013-01-01</td>\n",
       "      <td>0</td>\n",
       "      <td>0</td>\n",
       "      <td>0</td>\n",
       "      <td>1</td>\n",
       "      <td>1</td>\n",
       "      <td>0</td>\n",
       "      <td>NaN</td>\n",
       "      <td>1</td>\n",
       "      <td>1</td>\n",
       "      <td>1</td>\n",
       "    </tr>\n",
       "    <tr>\n",
       "      <th>4</th>\n",
       "      <td>144</td>\n",
       "      <td>2013-01-01</td>\n",
       "      <td>0</td>\n",
       "      <td>0</td>\n",
       "      <td>0</td>\n",
       "      <td>1</td>\n",
       "      <td>1</td>\n",
       "      <td>0</td>\n",
       "      <td>NaN</td>\n",
       "      <td>1</td>\n",
       "      <td>1</td>\n",
       "      <td>1</td>\n",
       "    </tr>\n",
       "  </tbody>\n",
       "</table>\n",
       "</div>"
      ],
      "text/plain": [
       "     id        date  customers  open  promo  state_holliday  school_holiday  \\\n",
       "0  1042  2013-01-01          0     0      0               1               1   \n",
       "1   128  2013-01-01          0     0      0               1               1   \n",
       "2   420  2013-01-01          0     0      0               1               1   \n",
       "3   225  2013-01-01          0     0      0               1               1   \n",
       "4   144  2013-01-01          0     0      0               1               1   \n",
       "\n",
       "   y  SalesPerCustomers  day_of_week  day_of_year  week_of_year  \n",
       "0  0                NaN            1            1             1  \n",
       "1  0                NaN            1            1             1  \n",
       "2  0                NaN            1            1             1  \n",
       "3  0                NaN            1            1             1  \n",
       "4  0                NaN            1            1             1  "
      ]
     },
     "execution_count": 131,
     "metadata": {},
     "output_type": "execute_result"
    }
   ],
   "source": [
    "# Rajout de la variable dayofweek et dayofyear\n",
    "train_df['day_of_week'] = pd.to_datetime(train_df['date']).dt.dayofweek\n",
    "test_df['day_of_week'] = pd.to_datetime(test_df['date']).dt.dayofweek\n",
    "\n",
    "train_df['day_of_year'] = pd.to_datetime(train_df['date']).dt.dayofyear\n",
    "test_df['day_of_year'] = pd.to_datetime(test_df['date']).dt.dayofyear\n",
    "\n",
    "train_df['week_of_year'] = pd.to_datetime(train_df['date']).dt.weekofyear\n",
    "test_df['week_of_year'] = pd.to_datetime(test_df['date']).dt.weekofyear\n",
    "\n",
    "# okay = train_df.groupby(['id','day_of_week'])['y'].agg(['mean']).copy()\n",
    "# train_df = pd.merge(left = train_df , right = okay.reset_index(), on=['id','day_of_week'], how ='left')\n",
    "# test_df = pd.merge(left = test_df, right = okay.reset_index(),on=['id','day_of_week'], how ='left')\n",
    "\n",
    "train_df.head()"
   ]
  },
  {
   "cell_type": "code",
   "execution_count": 132,
   "metadata": {},
   "outputs": [
    {
     "data": {
      "text/html": [
       "<div>\n",
       "<style scoped>\n",
       "    .dataframe tbody tr th:only-of-type {\n",
       "        vertical-align: middle;\n",
       "    }\n",
       "\n",
       "    .dataframe tbody tr th {\n",
       "        vertical-align: top;\n",
       "    }\n",
       "\n",
       "    .dataframe thead th {\n",
       "        text-align: right;\n",
       "    }\n",
       "</style>\n",
       "<table border=\"1\" class=\"dataframe\">\n",
       "  <thead>\n",
       "    <tr style=\"text-align: right;\">\n",
       "      <th></th>\n",
       "      <th>id</th>\n",
       "      <th>date</th>\n",
       "      <th>customers</th>\n",
       "      <th>open</th>\n",
       "      <th>promo</th>\n",
       "      <th>state_holliday</th>\n",
       "      <th>school_holiday</th>\n",
       "      <th>y</th>\n",
       "      <th>day_of_week</th>\n",
       "      <th>day_of_year</th>\n",
       "      <th>week_of_year</th>\n",
       "      <th>ratio_by_day_of_week</th>\n",
       "      <th>CustomersPerDay</th>\n",
       "      <th>app_p</th>\n",
       "    </tr>\n",
       "  </thead>\n",
       "  <tbody>\n",
       "    <tr>\n",
       "      <th>0</th>\n",
       "      <td>1105</td>\n",
       "      <td>2013-01-01</td>\n",
       "      <td>0</td>\n",
       "      <td>0</td>\n",
       "      <td>0</td>\n",
       "      <td>1</td>\n",
       "      <td>1</td>\n",
       "      <td>0</td>\n",
       "      <td>1</td>\n",
       "      <td>1</td>\n",
       "      <td>1</td>\n",
       "      <td>8.886458</td>\n",
       "      <td>53302</td>\n",
       "      <td>0.000000</td>\n",
       "    </tr>\n",
       "    <tr>\n",
       "      <th>1</th>\n",
       "      <td>306</td>\n",
       "      <td>2013-01-01</td>\n",
       "      <td>0</td>\n",
       "      <td>0</td>\n",
       "      <td>0</td>\n",
       "      <td>1</td>\n",
       "      <td>1</td>\n",
       "      <td>0</td>\n",
       "      <td>1</td>\n",
       "      <td>1</td>\n",
       "      <td>1</td>\n",
       "      <td>9.355798</td>\n",
       "      <td>42794</td>\n",
       "      <td>0.000000</td>\n",
       "    </tr>\n",
       "    <tr>\n",
       "      <th>2</th>\n",
       "      <td>1115</td>\n",
       "      <td>2013-01-01</td>\n",
       "      <td>0</td>\n",
       "      <td>0</td>\n",
       "      <td>0</td>\n",
       "      <td>1</td>\n",
       "      <td>1</td>\n",
       "      <td>0</td>\n",
       "      <td>1</td>\n",
       "      <td>1</td>\n",
       "      <td>1</td>\n",
       "      <td>14.573775</td>\n",
       "      <td>43355</td>\n",
       "      <td>0.000000</td>\n",
       "    </tr>\n",
       "    <tr>\n",
       "      <th>3</th>\n",
       "      <td>506</td>\n",
       "      <td>2013-01-01</td>\n",
       "      <td>0</td>\n",
       "      <td>0</td>\n",
       "      <td>0</td>\n",
       "      <td>1</td>\n",
       "      <td>1</td>\n",
       "      <td>0</td>\n",
       "      <td>1</td>\n",
       "      <td>1</td>\n",
       "      <td>1</td>\n",
       "      <td>9.022218</td>\n",
       "      <td>85560</td>\n",
       "      <td>0.000000</td>\n",
       "    </tr>\n",
       "    <tr>\n",
       "      <th>4</th>\n",
       "      <td>877</td>\n",
       "      <td>2013-01-01</td>\n",
       "      <td>0</td>\n",
       "      <td>0</td>\n",
       "      <td>0</td>\n",
       "      <td>1</td>\n",
       "      <td>1</td>\n",
       "      <td>0</td>\n",
       "      <td>1</td>\n",
       "      <td>1</td>\n",
       "      <td>1</td>\n",
       "      <td>7.372790</td>\n",
       "      <td>105188</td>\n",
       "      <td>0.000000</td>\n",
       "    </tr>\n",
       "    <tr>\n",
       "      <th>...</th>\n",
       "      <td>...</td>\n",
       "      <td>...</td>\n",
       "      <td>...</td>\n",
       "      <td>...</td>\n",
       "      <td>...</td>\n",
       "      <td>...</td>\n",
       "      <td>...</td>\n",
       "      <td>...</td>\n",
       "      <td>...</td>\n",
       "      <td>...</td>\n",
       "      <td>...</td>\n",
       "      <td>...</td>\n",
       "      <td>...</td>\n",
       "      <td>...</td>\n",
       "    </tr>\n",
       "    <tr>\n",
       "      <th>203437</th>\n",
       "      <td>728</td>\n",
       "      <td>2015-07-31</td>\n",
       "      <td>542</td>\n",
       "      <td>1</td>\n",
       "      <td>1</td>\n",
       "      <td>0</td>\n",
       "      <td>1</td>\n",
       "      <td>0</td>\n",
       "      <td>4</td>\n",
       "      <td>212</td>\n",
       "      <td>31</td>\n",
       "      <td>11.468789</td>\n",
       "      <td>52610</td>\n",
       "      <td>6216.083748</td>\n",
       "    </tr>\n",
       "    <tr>\n",
       "      <th>203438</th>\n",
       "      <td>323</td>\n",
       "      <td>2015-07-31</td>\n",
       "      <td>716</td>\n",
       "      <td>1</td>\n",
       "      <td>1</td>\n",
       "      <td>0</td>\n",
       "      <td>1</td>\n",
       "      <td>0</td>\n",
       "      <td>4</td>\n",
       "      <td>212</td>\n",
       "      <td>31</td>\n",
       "      <td>11.870420</td>\n",
       "      <td>63891</td>\n",
       "      <td>8499.220673</td>\n",
       "    </tr>\n",
       "    <tr>\n",
       "      <th>203439</th>\n",
       "      <td>912</td>\n",
       "      <td>2015-07-31</td>\n",
       "      <td>806</td>\n",
       "      <td>1</td>\n",
       "      <td>1</td>\n",
       "      <td>0</td>\n",
       "      <td>1</td>\n",
       "      <td>0</td>\n",
       "      <td>4</td>\n",
       "      <td>212</td>\n",
       "      <td>31</td>\n",
       "      <td>7.555701</td>\n",
       "      <td>81229</td>\n",
       "      <td>6089.894644</td>\n",
       "    </tr>\n",
       "    <tr>\n",
       "      <th>203440</th>\n",
       "      <td>276</td>\n",
       "      <td>2015-07-31</td>\n",
       "      <td>575</td>\n",
       "      <td>1</td>\n",
       "      <td>1</td>\n",
       "      <td>0</td>\n",
       "      <td>1</td>\n",
       "      <td>0</td>\n",
       "      <td>4</td>\n",
       "      <td>212</td>\n",
       "      <td>31</td>\n",
       "      <td>7.808782</td>\n",
       "      <td>61537</td>\n",
       "      <td>4490.049482</td>\n",
       "    </tr>\n",
       "    <tr>\n",
       "      <th>203441</th>\n",
       "      <td>1028</td>\n",
       "      <td>2015-07-31</td>\n",
       "      <td>721</td>\n",
       "      <td>1</td>\n",
       "      <td>1</td>\n",
       "      <td>0</td>\n",
       "      <td>1</td>\n",
       "      <td>0</td>\n",
       "      <td>4</td>\n",
       "      <td>212</td>\n",
       "      <td>31</td>\n",
       "      <td>8.110990</td>\n",
       "      <td>55798</td>\n",
       "      <td>5848.023531</td>\n",
       "    </tr>\n",
       "  </tbody>\n",
       "</table>\n",
       "<p>203442 rows × 14 columns</p>\n",
       "</div>"
      ],
      "text/plain": [
       "          id        date  customers  open  promo  state_holliday  \\\n",
       "0       1105  2013-01-01          0     0      0               1   \n",
       "1        306  2013-01-01          0     0      0               1   \n",
       "2       1115  2013-01-01          0     0      0               1   \n",
       "3        506  2013-01-01          0     0      0               1   \n",
       "4        877  2013-01-01          0     0      0               1   \n",
       "...      ...         ...        ...   ...    ...             ...   \n",
       "203437   728  2015-07-31        542     1      1               0   \n",
       "203438   323  2015-07-31        716     1      1               0   \n",
       "203439   912  2015-07-31        806     1      1               0   \n",
       "203440   276  2015-07-31        575     1      1               0   \n",
       "203441  1028  2015-07-31        721     1      1               0   \n",
       "\n",
       "        school_holiday  y  day_of_week  day_of_year  week_of_year  \\\n",
       "0                    1  0            1            1             1   \n",
       "1                    1  0            1            1             1   \n",
       "2                    1  0            1            1             1   \n",
       "3                    1  0            1            1             1   \n",
       "4                    1  0            1            1             1   \n",
       "...                ... ..          ...          ...           ...   \n",
       "203437               1  0            4          212            31   \n",
       "203438               1  0            4          212            31   \n",
       "203439               1  0            4          212            31   \n",
       "203440               1  0            4          212            31   \n",
       "203441               1  0            4          212            31   \n",
       "\n",
       "        ratio_by_day_of_week  CustomersPerDay        app_p  \n",
       "0                   8.886458            53302     0.000000  \n",
       "1                   9.355798            42794     0.000000  \n",
       "2                  14.573775            43355     0.000000  \n",
       "3                   9.022218            85560     0.000000  \n",
       "4                   7.372790           105188     0.000000  \n",
       "...                      ...              ...          ...  \n",
       "203437             11.468789            52610  6216.083748  \n",
       "203438             11.870420            63891  8499.220673  \n",
       "203439              7.555701            81229  6089.894644  \n",
       "203440              7.808782            61537  4490.049482  \n",
       "203441              8.110990            55798  5848.023531  \n",
       "\n",
       "[203442 rows x 14 columns]"
      ]
     },
     "execution_count": 132,
     "metadata": {},
     "output_type": "execute_result"
    }
   ],
   "source": [
    "#Ratio = y/customers byday_of_week\n",
    "train_group = train_df.groupby(['id','day_of_week'])\n",
    "\n",
    "ratio_df = pd.DataFrame({'ratio_by_day_of_week':train_group['y'].sum()/train_group['customers'].sum()})\n",
    "customers_perday = pd.DataFrame({'CustomersPerDay':train_group['customers'].sum()})\n",
    "\n",
    "train_df= pd.merge(left = train_df, right = ratio_df ,on=['id','day_of_week'], how ='left')\n",
    "test_df = pd.merge(left = test_df, right = ratio_df,on=['id','day_of_week'], how ='left')\n",
    "\n",
    "train_df= pd.merge(left = train_df, right = customers_perday ,on=['id','day_of_week'], how ='left')\n",
    "test_df = pd.merge(left = test_df, right = customers_perday,on=['id','day_of_week'], how ='left')\n",
    "\n",
    "#Rajout de app_y = ratio_by_dayofweek * customers\n",
    "train_df['app_p'] = train_df['customers']*train_df['ratio_by_day_of_week']\n",
    "test_df['app_p'] = test_df['customers']*test_df['ratio_by_day_of_week']\n",
    "\n",
    "test_df"
   ]
  },
  {
   "cell_type": "code",
   "execution_count": 133,
   "metadata": {},
   "outputs": [],
   "source": [
    "# Remove points with 0 Sales\n",
    "# Set Open = 0 when Sales = 0 OR Customers = 0\n",
    "# train_df.loc[ (train_df['customers']==0) | (train_df['y']==0) , 'open' ] = 0\n",
    "# train_df = train_df[train_df['open'] == 1]"
   ]
  },
  {
   "cell_type": "code",
   "execution_count": 134,
   "metadata": {},
   "outputs": [],
   "source": [
    "pd.set_option('display.max_columns', None)"
   ]
  },
  {
   "cell_type": "code",
   "execution_count": 135,
   "metadata": {},
   "outputs": [
    {
     "name": "stderr",
     "output_type": "stream",
     "text": [
      "<ipython-input-135-f6b3fb7f2d17>:22: FutureWarning: Series.dt.weekofyear and Series.dt.week have been deprecated.  Please use Series.dt.isocalendar().week instead.\n",
      "  merged['Week'] = pd.to_datetime(merged['date']).dt.week\n"
     ]
    },
    {
     "data": {
      "text/html": [
       "<div>\n",
       "<style scoped>\n",
       "    .dataframe tbody tr th:only-of-type {\n",
       "        vertical-align: middle;\n",
       "    }\n",
       "\n",
       "    .dataframe tbody tr th {\n",
       "        vertical-align: top;\n",
       "    }\n",
       "\n",
       "    .dataframe thead th {\n",
       "        text-align: right;\n",
       "    }\n",
       "</style>\n",
       "<table border=\"1\" class=\"dataframe\">\n",
       "  <thead>\n",
       "    <tr style=\"text-align: right;\">\n",
       "      <th></th>\n",
       "      <th>id</th>\n",
       "      <th>date</th>\n",
       "      <th>customers</th>\n",
       "      <th>open</th>\n",
       "      <th>promo</th>\n",
       "      <th>state_holliday</th>\n",
       "      <th>school_holiday</th>\n",
       "      <th>y</th>\n",
       "      <th>SalesPerCustomers</th>\n",
       "      <th>day_of_week</th>\n",
       "      <th>day_of_year</th>\n",
       "      <th>week_of_year</th>\n",
       "      <th>ratio_by_day_of_week</th>\n",
       "      <th>CustomersPerDay</th>\n",
       "      <th>app_p</th>\n",
       "      <th>Medy</th>\n",
       "      <th>Medcustomers</th>\n",
       "      <th>MedSalesPerCustomers</th>\n",
       "      <th>Avgy</th>\n",
       "      <th>Avgcustomers</th>\n",
       "      <th>AvgSalesPerCustomers</th>\n",
       "      <th>store_type</th>\n",
       "      <th>assortment</th>\n",
       "      <th>promo_interval</th>\n",
       "      <th>Year</th>\n",
       "      <th>Month</th>\n",
       "      <th>Day</th>\n",
       "      <th>Week</th>\n",
       "    </tr>\n",
       "  </thead>\n",
       "  <tbody>\n",
       "    <tr>\n",
       "      <th>0</th>\n",
       "      <td>1042</td>\n",
       "      <td>2013-01-01</td>\n",
       "      <td>0</td>\n",
       "      <td>0</td>\n",
       "      <td>0</td>\n",
       "      <td>1</td>\n",
       "      <td>1</td>\n",
       "      <td>0</td>\n",
       "      <td>0.000000</td>\n",
       "      <td>1</td>\n",
       "      <td>1</td>\n",
       "      <td>1</td>\n",
       "      <td>7.412280</td>\n",
       "      <td>62460</td>\n",
       "      <td>0.000000</td>\n",
       "      <td>3627.0</td>\n",
       "      <td>512.0</td>\n",
       "      <td>7.346963</td>\n",
       "      <td>3363.957839</td>\n",
       "      <td>446.072464</td>\n",
       "      <td>7.443203</td>\n",
       "      <td>0</td>\n",
       "      <td>0</td>\n",
       "      <td>0</td>\n",
       "      <td>2013</td>\n",
       "      <td>1</td>\n",
       "      <td>1</td>\n",
       "      <td>1</td>\n",
       "    </tr>\n",
       "    <tr>\n",
       "      <th>1</th>\n",
       "      <td>128</td>\n",
       "      <td>2013-01-01</td>\n",
       "      <td>0</td>\n",
       "      <td>0</td>\n",
       "      <td>0</td>\n",
       "      <td>1</td>\n",
       "      <td>1</td>\n",
       "      <td>0</td>\n",
       "      <td>0.000000</td>\n",
       "      <td>1</td>\n",
       "      <td>1</td>\n",
       "      <td>1</td>\n",
       "      <td>12.703947</td>\n",
       "      <td>64708</td>\n",
       "      <td>0.000000</td>\n",
       "      <td>6671.5</td>\n",
       "      <td>556.0</td>\n",
       "      <td>12.276435</td>\n",
       "      <td>6176.957143</td>\n",
       "      <td>492.961039</td>\n",
       "      <td>12.373707</td>\n",
       "      <td>3</td>\n",
       "      <td>2</td>\n",
       "      <td>1</td>\n",
       "      <td>2013</td>\n",
       "      <td>1</td>\n",
       "      <td>1</td>\n",
       "      <td>1</td>\n",
       "    </tr>\n",
       "    <tr>\n",
       "      <th>2</th>\n",
       "      <td>420</td>\n",
       "      <td>2013-01-01</td>\n",
       "      <td>0</td>\n",
       "      <td>0</td>\n",
       "      <td>0</td>\n",
       "      <td>1</td>\n",
       "      <td>1</td>\n",
       "      <td>0</td>\n",
       "      <td>0.000000</td>\n",
       "      <td>1</td>\n",
       "      <td>1</td>\n",
       "      <td>1</td>\n",
       "      <td>11.001093</td>\n",
       "      <td>31100</td>\n",
       "      <td>0.000000</td>\n",
       "      <td>4156.5</td>\n",
       "      <td>382.0</td>\n",
       "      <td>11.209468</td>\n",
       "      <td>3769.974832</td>\n",
       "      <td>334.003356</td>\n",
       "      <td>11.193422</td>\n",
       "      <td>3</td>\n",
       "      <td>2</td>\n",
       "      <td>1</td>\n",
       "      <td>2013</td>\n",
       "      <td>1</td>\n",
       "      <td>1</td>\n",
       "      <td>1</td>\n",
       "    </tr>\n",
       "    <tr>\n",
       "      <th>3</th>\n",
       "      <td>225</td>\n",
       "      <td>2013-01-01</td>\n",
       "      <td>0</td>\n",
       "      <td>0</td>\n",
       "      <td>0</td>\n",
       "      <td>1</td>\n",
       "      <td>1</td>\n",
       "      <td>0</td>\n",
       "      <td>0.000000</td>\n",
       "      <td>1</td>\n",
       "      <td>1</td>\n",
       "      <td>1</td>\n",
       "      <td>9.484903</td>\n",
       "      <td>57593</td>\n",
       "      <td>0.000000</td>\n",
       "      <td>4565.0</td>\n",
       "      <td>519.0</td>\n",
       "      <td>9.164230</td>\n",
       "      <td>4367.282993</td>\n",
       "      <td>467.165986</td>\n",
       "      <td>9.247951</td>\n",
       "      <td>3</td>\n",
       "      <td>0</td>\n",
       "      <td>-1</td>\n",
       "      <td>2013</td>\n",
       "      <td>1</td>\n",
       "      <td>1</td>\n",
       "      <td>1</td>\n",
       "    </tr>\n",
       "    <tr>\n",
       "      <th>4</th>\n",
       "      <td>144</td>\n",
       "      <td>2013-01-01</td>\n",
       "      <td>0</td>\n",
       "      <td>0</td>\n",
       "      <td>0</td>\n",
       "      <td>1</td>\n",
       "      <td>1</td>\n",
       "      <td>0</td>\n",
       "      <td>0.000000</td>\n",
       "      <td>1</td>\n",
       "      <td>1</td>\n",
       "      <td>1</td>\n",
       "      <td>10.635794</td>\n",
       "      <td>55098</td>\n",
       "      <td>0.000000</td>\n",
       "      <td>7030.0</td>\n",
       "      <td>691.0</td>\n",
       "      <td>10.433333</td>\n",
       "      <td>6343.254576</td>\n",
       "      <td>599.552413</td>\n",
       "      <td>10.508401</td>\n",
       "      <td>0</td>\n",
       "      <td>2</td>\n",
       "      <td>-1</td>\n",
       "      <td>2013</td>\n",
       "      <td>1</td>\n",
       "      <td>1</td>\n",
       "      <td>1</td>\n",
       "    </tr>\n",
       "    <tr>\n",
       "      <th>...</th>\n",
       "      <td>...</td>\n",
       "      <td>...</td>\n",
       "      <td>...</td>\n",
       "      <td>...</td>\n",
       "      <td>...</td>\n",
       "      <td>...</td>\n",
       "      <td>...</td>\n",
       "      <td>...</td>\n",
       "      <td>...</td>\n",
       "      <td>...</td>\n",
       "      <td>...</td>\n",
       "      <td>...</td>\n",
       "      <td>...</td>\n",
       "      <td>...</td>\n",
       "      <td>...</td>\n",
       "      <td>...</td>\n",
       "      <td>...</td>\n",
       "      <td>...</td>\n",
       "      <td>...</td>\n",
       "      <td>...</td>\n",
       "      <td>...</td>\n",
       "      <td>...</td>\n",
       "      <td>...</td>\n",
       "      <td>...</td>\n",
       "      <td>...</td>\n",
       "      <td>...</td>\n",
       "      <td>...</td>\n",
       "      <td>...</td>\n",
       "    </tr>\n",
       "    <tr>\n",
       "      <th>813762</th>\n",
       "      <td>757</td>\n",
       "      <td>2015-07-31</td>\n",
       "      <td>684</td>\n",
       "      <td>1</td>\n",
       "      <td>1</td>\n",
       "      <td>0</td>\n",
       "      <td>1</td>\n",
       "      <td>9343</td>\n",
       "      <td>13.659357</td>\n",
       "      <td>4</td>\n",
       "      <td>212</td>\n",
       "      <td>31</td>\n",
       "      <td>11.625640</td>\n",
       "      <td>51739</td>\n",
       "      <td>7951.937919</td>\n",
       "      <td>5527.0</td>\n",
       "      <td>501.0</td>\n",
       "      <td>11.425388</td>\n",
       "      <td>5095.916777</td>\n",
       "      <td>439.859974</td>\n",
       "      <td>11.482440</td>\n",
       "      <td>0</td>\n",
       "      <td>2</td>\n",
       "      <td>-1</td>\n",
       "      <td>2015</td>\n",
       "      <td>7</td>\n",
       "      <td>31</td>\n",
       "      <td>31</td>\n",
       "    </tr>\n",
       "    <tr>\n",
       "      <th>813763</th>\n",
       "      <td>796</td>\n",
       "      <td>2015-07-31</td>\n",
       "      <td>769</td>\n",
       "      <td>1</td>\n",
       "      <td>1</td>\n",
       "      <td>0</td>\n",
       "      <td>1</td>\n",
       "      <td>8913</td>\n",
       "      <td>11.590377</td>\n",
       "      <td>4</td>\n",
       "      <td>212</td>\n",
       "      <td>31</td>\n",
       "      <td>10.584014</td>\n",
       "      <td>66834</td>\n",
       "      <td>8139.106862</td>\n",
       "      <td>6426.0</td>\n",
       "      <td>645.0</td>\n",
       "      <td>10.737490</td>\n",
       "      <td>5960.280702</td>\n",
       "      <td>548.217274</td>\n",
       "      <td>10.767563</td>\n",
       "      <td>0</td>\n",
       "      <td>2</td>\n",
       "      <td>-1</td>\n",
       "      <td>2015</td>\n",
       "      <td>7</td>\n",
       "      <td>31</td>\n",
       "      <td>31</td>\n",
       "    </tr>\n",
       "    <tr>\n",
       "      <th>813764</th>\n",
       "      <td>230</td>\n",
       "      <td>2015-07-31</td>\n",
       "      <td>1091</td>\n",
       "      <td>1</td>\n",
       "      <td>1</td>\n",
       "      <td>0</td>\n",
       "      <td>1</td>\n",
       "      <td>10988</td>\n",
       "      <td>10.071494</td>\n",
       "      <td>4</td>\n",
       "      <td>212</td>\n",
       "      <td>31</td>\n",
       "      <td>8.097225</td>\n",
       "      <td>101774</td>\n",
       "      <td>8834.072720</td>\n",
       "      <td>6948.0</td>\n",
       "      <td>896.0</td>\n",
       "      <td>7.904656</td>\n",
       "      <td>6305.500666</td>\n",
       "      <td>783.585885</td>\n",
       "      <td>7.973675</td>\n",
       "      <td>3</td>\n",
       "      <td>2</td>\n",
       "      <td>-1</td>\n",
       "      <td>2015</td>\n",
       "      <td>7</td>\n",
       "      <td>31</td>\n",
       "      <td>31</td>\n",
       "    </tr>\n",
       "    <tr>\n",
       "      <th>813765</th>\n",
       "      <td>387</td>\n",
       "      <td>2015-07-31</td>\n",
       "      <td>1402</td>\n",
       "      <td>1</td>\n",
       "      <td>1</td>\n",
       "      <td>0</td>\n",
       "      <td>1</td>\n",
       "      <td>14533</td>\n",
       "      <td>10.365906</td>\n",
       "      <td>4</td>\n",
       "      <td>212</td>\n",
       "      <td>31</td>\n",
       "      <td>7.753565</td>\n",
       "      <td>118376</td>\n",
       "      <td>10870.498006</td>\n",
       "      <td>7784.0</td>\n",
       "      <td>1094.0</td>\n",
       "      <td>7.587732</td>\n",
       "      <td>7561.992011</td>\n",
       "      <td>963.762983</td>\n",
       "      <td>7.727806</td>\n",
       "      <td>2</td>\n",
       "      <td>0</td>\n",
       "      <td>2</td>\n",
       "      <td>2015</td>\n",
       "      <td>7</td>\n",
       "      <td>31</td>\n",
       "      <td>31</td>\n",
       "    </tr>\n",
       "    <tr>\n",
       "      <th>813766</th>\n",
       "      <td>935</td>\n",
       "      <td>2015-07-31</td>\n",
       "      <td>802</td>\n",
       "      <td>1</td>\n",
       "      <td>1</td>\n",
       "      <td>0</td>\n",
       "      <td>1</td>\n",
       "      <td>8941</td>\n",
       "      <td>11.148379</td>\n",
       "      <td>4</td>\n",
       "      <td>212</td>\n",
       "      <td>31</td>\n",
       "      <td>9.405206</td>\n",
       "      <td>66734</td>\n",
       "      <td>7542.975005</td>\n",
       "      <td>5143.0</td>\n",
       "      <td>582.0</td>\n",
       "      <td>9.248773</td>\n",
       "      <td>4673.980027</td>\n",
       "      <td>497.997337</td>\n",
       "      <td>9.299933</td>\n",
       "      <td>0</td>\n",
       "      <td>2</td>\n",
       "      <td>-1</td>\n",
       "      <td>2015</td>\n",
       "      <td>7</td>\n",
       "      <td>31</td>\n",
       "      <td>31</td>\n",
       "    </tr>\n",
       "  </tbody>\n",
       "</table>\n",
       "<p>813767 rows × 28 columns</p>\n",
       "</div>"
      ],
      "text/plain": [
       "          id        date  customers  open  promo  state_holliday  \\\n",
       "0       1042  2013-01-01          0     0      0               1   \n",
       "1        128  2013-01-01          0     0      0               1   \n",
       "2        420  2013-01-01          0     0      0               1   \n",
       "3        225  2013-01-01          0     0      0               1   \n",
       "4        144  2013-01-01          0     0      0               1   \n",
       "...      ...         ...        ...   ...    ...             ...   \n",
       "813762   757  2015-07-31        684     1      1               0   \n",
       "813763   796  2015-07-31        769     1      1               0   \n",
       "813764   230  2015-07-31       1091     1      1               0   \n",
       "813765   387  2015-07-31       1402     1      1               0   \n",
       "813766   935  2015-07-31        802     1      1               0   \n",
       "\n",
       "        school_holiday      y  SalesPerCustomers  day_of_week  day_of_year  \\\n",
       "0                    1      0           0.000000            1            1   \n",
       "1                    1      0           0.000000            1            1   \n",
       "2                    1      0           0.000000            1            1   \n",
       "3                    1      0           0.000000            1            1   \n",
       "4                    1      0           0.000000            1            1   \n",
       "...                ...    ...                ...          ...          ...   \n",
       "813762               1   9343          13.659357            4          212   \n",
       "813763               1   8913          11.590377            4          212   \n",
       "813764               1  10988          10.071494            4          212   \n",
       "813765               1  14533          10.365906            4          212   \n",
       "813766               1   8941          11.148379            4          212   \n",
       "\n",
       "        week_of_year  ratio_by_day_of_week  CustomersPerDay         app_p  \\\n",
       "0                  1              7.412280            62460      0.000000   \n",
       "1                  1             12.703947            64708      0.000000   \n",
       "2                  1             11.001093            31100      0.000000   \n",
       "3                  1              9.484903            57593      0.000000   \n",
       "4                  1             10.635794            55098      0.000000   \n",
       "...              ...                   ...              ...           ...   \n",
       "813762            31             11.625640            51739   7951.937919   \n",
       "813763            31             10.584014            66834   8139.106862   \n",
       "813764            31              8.097225           101774   8834.072720   \n",
       "813765            31              7.753565           118376  10870.498006   \n",
       "813766            31              9.405206            66734   7542.975005   \n",
       "\n",
       "          Medy  Medcustomers  MedSalesPerCustomers         Avgy  Avgcustomers  \\\n",
       "0       3627.0         512.0              7.346963  3363.957839    446.072464   \n",
       "1       6671.5         556.0             12.276435  6176.957143    492.961039   \n",
       "2       4156.5         382.0             11.209468  3769.974832    334.003356   \n",
       "3       4565.0         519.0              9.164230  4367.282993    467.165986   \n",
       "4       7030.0         691.0             10.433333  6343.254576    599.552413   \n",
       "...        ...           ...                   ...          ...           ...   \n",
       "813762  5527.0         501.0             11.425388  5095.916777    439.859974   \n",
       "813763  6426.0         645.0             10.737490  5960.280702    548.217274   \n",
       "813764  6948.0         896.0              7.904656  6305.500666    783.585885   \n",
       "813765  7784.0        1094.0              7.587732  7561.992011    963.762983   \n",
       "813766  5143.0         582.0              9.248773  4673.980027    497.997337   \n",
       "\n",
       "        AvgSalesPerCustomers  store_type  assortment  promo_interval  Year  \\\n",
       "0                   7.443203           0           0               0  2013   \n",
       "1                  12.373707           3           2               1  2013   \n",
       "2                  11.193422           3           2               1  2013   \n",
       "3                   9.247951           3           0              -1  2013   \n",
       "4                  10.508401           0           2              -1  2013   \n",
       "...                      ...         ...         ...             ...   ...   \n",
       "813762             11.482440           0           2              -1  2015   \n",
       "813763             10.767563           0           2              -1  2015   \n",
       "813764              7.973675           3           2              -1  2015   \n",
       "813765              7.727806           2           0               2  2015   \n",
       "813766              9.299933           0           2              -1  2015   \n",
       "\n",
       "        Month  Day  Week  \n",
       "0           1    1     1  \n",
       "1           1    1     1  \n",
       "2           1    1     1  \n",
       "3           1    1     1  \n",
       "4           1    1     1  \n",
       "...       ...  ...   ...  \n",
       "813762      7   31    31  \n",
       "813763      7   31    31  \n",
       "813764      7   31    31  \n",
       "813765      7   31    31  \n",
       "813766      7   31    31  \n",
       "\n",
       "[813767 rows x 28 columns]"
      ]
     },
     "execution_count": 135,
     "metadata": {},
     "output_type": "execute_result"
    }
   ],
   "source": [
    "def build_features(train = train_df, store = store_df):\n",
    "    # Convert string types into integers\n",
    "    store['store_type'] = store['store_type'].astype('category').cat.codes\n",
    "    store['assortment'] = store['assortment'].astype('category').cat.codes\n",
    "    store['promo_interval'] = store['promo_interval'].astype('category').cat.codes\n",
    "    train[\"state_holliday\"] = train[\"state_holliday\"].astype('category').cat.codes\n",
    "    \n",
    "    store['store_type'] = pd.to_numeric(store['store_type'])\n",
    "    store['assortment'] = pd.to_numeric(store['assortment'])\n",
    "    train['state_holliday'] = pd.to_numeric(train['state_holliday'])\n",
    "\n",
    "    merged = pd.merge(train, store, on='id', how='left')\n",
    "    \n",
    "    # remove NaNs\n",
    "    NaN_replace = 0\n",
    "    merged.fillna(NaN_replace, inplace=True)\n",
    "    \n",
    "    #merged['day_of_week'] = pd.to_datetime(merged['date']).dt.dayofweek\n",
    "    merged['Year'] = pd.to_datetime(merged['date']).dt.year\n",
    "    merged['Month'] = pd.to_datetime(merged['date']).dt.month\n",
    "    merged['Day'] = pd.to_datetime(merged['date']).dt.day\n",
    "    merged['Week'] = pd.to_datetime(merged['date']).dt.week\n",
    "    \n",
    "    merged['Year'] = pd.to_numeric(merged['Year'])\n",
    "    merged['Month'] = pd.to_numeric(merged['Month'])\n",
    "    merged['Day'] = pd.to_numeric(merged['Day'])\n",
    "    merged['Week'] = pd.to_numeric(merged['Week'])\n",
    "    \n",
    "    #merged = merged[merged['Month'] != 12] #Supprimer les valeurs du mois de Décembre\n",
    "\n",
    "    return merged\n",
    "\n",
    "med_store = train_df.groupby('id')[['y', 'customers', 'SalesPerCustomers']].median()\n",
    "med_store.rename(columns=lambda x: 'Med' + x, inplace=True)\n",
    "\n",
    "store_df = pd.merge(med_store.reset_index(), store_df, on='id')\n",
    "features = build_features(train_df, store_df)\n",
    "features"
   ]
  },
  {
   "cell_type": "code",
   "execution_count": 136,
   "metadata": {},
   "outputs": [],
   "source": [
    "#Remove outliers\n",
    "\n",
    "# def reject_outliers(df,col_name, m=2.6):\n",
    "#     return df[ (df[col_name] - df[col_name].mean()).abs() < m * df[col_name].std()]\n",
    "\n",
    "# features = pd.concat([reject_outliers(df,'SalesPerCustomers') for ID,df in features.groupby(['id'])])\n",
    "# features = features.sort_index()\n",
    "\n",
    "# features"
   ]
  },
  {
   "cell_type": "code",
   "execution_count": 137,
   "metadata": {},
   "outputs": [],
   "source": [
    "X = [\n",
    "    'id', \n",
    "    'customers',\n",
    "    'promo',\n",
    "    #'promo_interval',\n",
    "    \n",
    "    #'school_holiday',\n",
    "    'state_holliday',\n",
    "    'store_type',\n",
    "    'assortment',\n",
    "\n",
    "    'Avgy',\n",
    "    'Avgcustomers',\n",
    "    'AvgSalesPerCustomers',\n",
    "    \n",
    "    'Medy',\n",
    "    'Medcustomers',\n",
    "    'MedSalesPerCustomers',\n",
    "\n",
    "    'day_of_week',\n",
    "    'day_of_year',\n",
    "    'week_of_year',\n",
    "    \n",
    "    'Week',\n",
    "    'Day',\n",
    "    'Month',\n",
    "    'Year',\n",
    "    \n",
    "    'ratio_by_day_of_week',\n",
    "    'app_p',\n",
    "    'CustomersPerDay',\n",
    "]\n",
    "\n",
    "X_train, X_valid, y_train, y_valid = train_test_split(\n",
    "    features[X], features['y'], test_size=0.15, random_state=42)\n",
    "\n",
    "X1 , y1 = features[X].copy(), features['y'].copy()"
   ]
  },
  {
   "cell_type": "code",
   "execution_count": 138,
   "metadata": {},
   "outputs": [],
   "source": [
    "#Scaling\n",
    "# scaler = StandardScaler()\n",
    "# X_train = scaler.fit_transform(X_train)\n",
    "# X_valid = scaler.transform(X_valid)"
   ]
  },
  {
   "cell_type": "code",
   "execution_count": 139,
   "metadata": {},
   "outputs": [
    {
     "name": "stdout",
     "output_type": "stream",
     "text": [
      "Input shape  : (813767, 22)\n",
      "Target shape : (813767,)\n"
     ]
    },
    {
     "data": {
      "text/html": [
       "<div>\n",
       "<style scoped>\n",
       "    .dataframe tbody tr th:only-of-type {\n",
       "        vertical-align: middle;\n",
       "    }\n",
       "\n",
       "    .dataframe tbody tr th {\n",
       "        vertical-align: top;\n",
       "    }\n",
       "\n",
       "    .dataframe thead th {\n",
       "        text-align: right;\n",
       "    }\n",
       "</style>\n",
       "<table border=\"1\" class=\"dataframe\">\n",
       "  <thead>\n",
       "    <tr style=\"text-align: right;\">\n",
       "      <th></th>\n",
       "      <th>id</th>\n",
       "      <th>customers</th>\n",
       "      <th>promo</th>\n",
       "      <th>state_holliday</th>\n",
       "      <th>store_type</th>\n",
       "      <th>assortment</th>\n",
       "      <th>Avgy</th>\n",
       "      <th>Avgcustomers</th>\n",
       "      <th>AvgSalesPerCustomers</th>\n",
       "      <th>Medy</th>\n",
       "      <th>Medcustomers</th>\n",
       "      <th>MedSalesPerCustomers</th>\n",
       "      <th>day_of_week</th>\n",
       "      <th>day_of_year</th>\n",
       "      <th>week_of_year</th>\n",
       "      <th>Week</th>\n",
       "      <th>Day</th>\n",
       "      <th>Month</th>\n",
       "      <th>Year</th>\n",
       "      <th>ratio_by_day_of_week</th>\n",
       "      <th>app_p</th>\n",
       "      <th>CustomersPerDay</th>\n",
       "    </tr>\n",
       "  </thead>\n",
       "  <tbody>\n",
       "    <tr>\n",
       "      <th>0</th>\n",
       "      <td>1042</td>\n",
       "      <td>0</td>\n",
       "      <td>0</td>\n",
       "      <td>1</td>\n",
       "      <td>0</td>\n",
       "      <td>0</td>\n",
       "      <td>3363.957839</td>\n",
       "      <td>446.072464</td>\n",
       "      <td>7.443203</td>\n",
       "      <td>3627.0</td>\n",
       "      <td>512.0</td>\n",
       "      <td>7.346963</td>\n",
       "      <td>1</td>\n",
       "      <td>1</td>\n",
       "      <td>1</td>\n",
       "      <td>1</td>\n",
       "      <td>1</td>\n",
       "      <td>1</td>\n",
       "      <td>2013</td>\n",
       "      <td>7.412280</td>\n",
       "      <td>0.000000</td>\n",
       "      <td>62460</td>\n",
       "    </tr>\n",
       "    <tr>\n",
       "      <th>1</th>\n",
       "      <td>128</td>\n",
       "      <td>0</td>\n",
       "      <td>0</td>\n",
       "      <td>1</td>\n",
       "      <td>3</td>\n",
       "      <td>2</td>\n",
       "      <td>6176.957143</td>\n",
       "      <td>492.961039</td>\n",
       "      <td>12.373707</td>\n",
       "      <td>6671.5</td>\n",
       "      <td>556.0</td>\n",
       "      <td>12.276435</td>\n",
       "      <td>1</td>\n",
       "      <td>1</td>\n",
       "      <td>1</td>\n",
       "      <td>1</td>\n",
       "      <td>1</td>\n",
       "      <td>1</td>\n",
       "      <td>2013</td>\n",
       "      <td>12.703947</td>\n",
       "      <td>0.000000</td>\n",
       "      <td>64708</td>\n",
       "    </tr>\n",
       "    <tr>\n",
       "      <th>2</th>\n",
       "      <td>420</td>\n",
       "      <td>0</td>\n",
       "      <td>0</td>\n",
       "      <td>1</td>\n",
       "      <td>3</td>\n",
       "      <td>2</td>\n",
       "      <td>3769.974832</td>\n",
       "      <td>334.003356</td>\n",
       "      <td>11.193422</td>\n",
       "      <td>4156.5</td>\n",
       "      <td>382.0</td>\n",
       "      <td>11.209468</td>\n",
       "      <td>1</td>\n",
       "      <td>1</td>\n",
       "      <td>1</td>\n",
       "      <td>1</td>\n",
       "      <td>1</td>\n",
       "      <td>1</td>\n",
       "      <td>2013</td>\n",
       "      <td>11.001093</td>\n",
       "      <td>0.000000</td>\n",
       "      <td>31100</td>\n",
       "    </tr>\n",
       "    <tr>\n",
       "      <th>3</th>\n",
       "      <td>225</td>\n",
       "      <td>0</td>\n",
       "      <td>0</td>\n",
       "      <td>1</td>\n",
       "      <td>3</td>\n",
       "      <td>0</td>\n",
       "      <td>4367.282993</td>\n",
       "      <td>467.165986</td>\n",
       "      <td>9.247951</td>\n",
       "      <td>4565.0</td>\n",
       "      <td>519.0</td>\n",
       "      <td>9.164230</td>\n",
       "      <td>1</td>\n",
       "      <td>1</td>\n",
       "      <td>1</td>\n",
       "      <td>1</td>\n",
       "      <td>1</td>\n",
       "      <td>1</td>\n",
       "      <td>2013</td>\n",
       "      <td>9.484903</td>\n",
       "      <td>0.000000</td>\n",
       "      <td>57593</td>\n",
       "    </tr>\n",
       "    <tr>\n",
       "      <th>4</th>\n",
       "      <td>144</td>\n",
       "      <td>0</td>\n",
       "      <td>0</td>\n",
       "      <td>1</td>\n",
       "      <td>0</td>\n",
       "      <td>2</td>\n",
       "      <td>6343.254576</td>\n",
       "      <td>599.552413</td>\n",
       "      <td>10.508401</td>\n",
       "      <td>7030.0</td>\n",
       "      <td>691.0</td>\n",
       "      <td>10.433333</td>\n",
       "      <td>1</td>\n",
       "      <td>1</td>\n",
       "      <td>1</td>\n",
       "      <td>1</td>\n",
       "      <td>1</td>\n",
       "      <td>1</td>\n",
       "      <td>2013</td>\n",
       "      <td>10.635794</td>\n",
       "      <td>0.000000</td>\n",
       "      <td>55098</td>\n",
       "    </tr>\n",
       "    <tr>\n",
       "      <th>...</th>\n",
       "      <td>...</td>\n",
       "      <td>...</td>\n",
       "      <td>...</td>\n",
       "      <td>...</td>\n",
       "      <td>...</td>\n",
       "      <td>...</td>\n",
       "      <td>...</td>\n",
       "      <td>...</td>\n",
       "      <td>...</td>\n",
       "      <td>...</td>\n",
       "      <td>...</td>\n",
       "      <td>...</td>\n",
       "      <td>...</td>\n",
       "      <td>...</td>\n",
       "      <td>...</td>\n",
       "      <td>...</td>\n",
       "      <td>...</td>\n",
       "      <td>...</td>\n",
       "      <td>...</td>\n",
       "      <td>...</td>\n",
       "      <td>...</td>\n",
       "      <td>...</td>\n",
       "    </tr>\n",
       "    <tr>\n",
       "      <th>813762</th>\n",
       "      <td>757</td>\n",
       "      <td>684</td>\n",
       "      <td>1</td>\n",
       "      <td>0</td>\n",
       "      <td>0</td>\n",
       "      <td>2</td>\n",
       "      <td>5095.916777</td>\n",
       "      <td>439.859974</td>\n",
       "      <td>11.482440</td>\n",
       "      <td>5527.0</td>\n",
       "      <td>501.0</td>\n",
       "      <td>11.425388</td>\n",
       "      <td>4</td>\n",
       "      <td>212</td>\n",
       "      <td>31</td>\n",
       "      <td>31</td>\n",
       "      <td>31</td>\n",
       "      <td>7</td>\n",
       "      <td>2015</td>\n",
       "      <td>11.625640</td>\n",
       "      <td>7951.937919</td>\n",
       "      <td>51739</td>\n",
       "    </tr>\n",
       "    <tr>\n",
       "      <th>813763</th>\n",
       "      <td>796</td>\n",
       "      <td>769</td>\n",
       "      <td>1</td>\n",
       "      <td>0</td>\n",
       "      <td>0</td>\n",
       "      <td>2</td>\n",
       "      <td>5960.280702</td>\n",
       "      <td>548.217274</td>\n",
       "      <td>10.767563</td>\n",
       "      <td>6426.0</td>\n",
       "      <td>645.0</td>\n",
       "      <td>10.737490</td>\n",
       "      <td>4</td>\n",
       "      <td>212</td>\n",
       "      <td>31</td>\n",
       "      <td>31</td>\n",
       "      <td>31</td>\n",
       "      <td>7</td>\n",
       "      <td>2015</td>\n",
       "      <td>10.584014</td>\n",
       "      <td>8139.106862</td>\n",
       "      <td>66834</td>\n",
       "    </tr>\n",
       "    <tr>\n",
       "      <th>813764</th>\n",
       "      <td>230</td>\n",
       "      <td>1091</td>\n",
       "      <td>1</td>\n",
       "      <td>0</td>\n",
       "      <td>3</td>\n",
       "      <td>2</td>\n",
       "      <td>6305.500666</td>\n",
       "      <td>783.585885</td>\n",
       "      <td>7.973675</td>\n",
       "      <td>6948.0</td>\n",
       "      <td>896.0</td>\n",
       "      <td>7.904656</td>\n",
       "      <td>4</td>\n",
       "      <td>212</td>\n",
       "      <td>31</td>\n",
       "      <td>31</td>\n",
       "      <td>31</td>\n",
       "      <td>7</td>\n",
       "      <td>2015</td>\n",
       "      <td>8.097225</td>\n",
       "      <td>8834.072720</td>\n",
       "      <td>101774</td>\n",
       "    </tr>\n",
       "    <tr>\n",
       "      <th>813765</th>\n",
       "      <td>387</td>\n",
       "      <td>1402</td>\n",
       "      <td>1</td>\n",
       "      <td>0</td>\n",
       "      <td>2</td>\n",
       "      <td>0</td>\n",
       "      <td>7561.992011</td>\n",
       "      <td>963.762983</td>\n",
       "      <td>7.727806</td>\n",
       "      <td>7784.0</td>\n",
       "      <td>1094.0</td>\n",
       "      <td>7.587732</td>\n",
       "      <td>4</td>\n",
       "      <td>212</td>\n",
       "      <td>31</td>\n",
       "      <td>31</td>\n",
       "      <td>31</td>\n",
       "      <td>7</td>\n",
       "      <td>2015</td>\n",
       "      <td>7.753565</td>\n",
       "      <td>10870.498006</td>\n",
       "      <td>118376</td>\n",
       "    </tr>\n",
       "    <tr>\n",
       "      <th>813766</th>\n",
       "      <td>935</td>\n",
       "      <td>802</td>\n",
       "      <td>1</td>\n",
       "      <td>0</td>\n",
       "      <td>0</td>\n",
       "      <td>2</td>\n",
       "      <td>4673.980027</td>\n",
       "      <td>497.997337</td>\n",
       "      <td>9.299933</td>\n",
       "      <td>5143.0</td>\n",
       "      <td>582.0</td>\n",
       "      <td>9.248773</td>\n",
       "      <td>4</td>\n",
       "      <td>212</td>\n",
       "      <td>31</td>\n",
       "      <td>31</td>\n",
       "      <td>31</td>\n",
       "      <td>7</td>\n",
       "      <td>2015</td>\n",
       "      <td>9.405206</td>\n",
       "      <td>7542.975005</td>\n",
       "      <td>66734</td>\n",
       "    </tr>\n",
       "  </tbody>\n",
       "</table>\n",
       "<p>813767 rows × 22 columns</p>\n",
       "</div>"
      ],
      "text/plain": [
       "          id  customers  promo  state_holliday  store_type  assortment  \\\n",
       "0       1042          0      0               1           0           0   \n",
       "1        128          0      0               1           3           2   \n",
       "2        420          0      0               1           3           2   \n",
       "3        225          0      0               1           3           0   \n",
       "4        144          0      0               1           0           2   \n",
       "...      ...        ...    ...             ...         ...         ...   \n",
       "813762   757        684      1               0           0           2   \n",
       "813763   796        769      1               0           0           2   \n",
       "813764   230       1091      1               0           3           2   \n",
       "813765   387       1402      1               0           2           0   \n",
       "813766   935        802      1               0           0           2   \n",
       "\n",
       "               Avgy  Avgcustomers  AvgSalesPerCustomers    Medy  Medcustomers  \\\n",
       "0       3363.957839    446.072464              7.443203  3627.0         512.0   \n",
       "1       6176.957143    492.961039             12.373707  6671.5         556.0   \n",
       "2       3769.974832    334.003356             11.193422  4156.5         382.0   \n",
       "3       4367.282993    467.165986              9.247951  4565.0         519.0   \n",
       "4       6343.254576    599.552413             10.508401  7030.0         691.0   \n",
       "...             ...           ...                   ...     ...           ...   \n",
       "813762  5095.916777    439.859974             11.482440  5527.0         501.0   \n",
       "813763  5960.280702    548.217274             10.767563  6426.0         645.0   \n",
       "813764  6305.500666    783.585885              7.973675  6948.0         896.0   \n",
       "813765  7561.992011    963.762983              7.727806  7784.0        1094.0   \n",
       "813766  4673.980027    497.997337              9.299933  5143.0         582.0   \n",
       "\n",
       "        MedSalesPerCustomers  day_of_week  day_of_year  week_of_year  Week  \\\n",
       "0                   7.346963            1            1             1     1   \n",
       "1                  12.276435            1            1             1     1   \n",
       "2                  11.209468            1            1             1     1   \n",
       "3                   9.164230            1            1             1     1   \n",
       "4                  10.433333            1            1             1     1   \n",
       "...                      ...          ...          ...           ...   ...   \n",
       "813762             11.425388            4          212            31    31   \n",
       "813763             10.737490            4          212            31    31   \n",
       "813764              7.904656            4          212            31    31   \n",
       "813765              7.587732            4          212            31    31   \n",
       "813766              9.248773            4          212            31    31   \n",
       "\n",
       "        Day  Month  Year  ratio_by_day_of_week         app_p  CustomersPerDay  \n",
       "0         1      1  2013              7.412280      0.000000            62460  \n",
       "1         1      1  2013             12.703947      0.000000            64708  \n",
       "2         1      1  2013             11.001093      0.000000            31100  \n",
       "3         1      1  2013              9.484903      0.000000            57593  \n",
       "4         1      1  2013             10.635794      0.000000            55098  \n",
       "...     ...    ...   ...                   ...           ...              ...  \n",
       "813762   31      7  2015             11.625640   7951.937919            51739  \n",
       "813763   31      7  2015             10.584014   8139.106862            66834  \n",
       "813764   31      7  2015              8.097225   8834.072720           101774  \n",
       "813765   31      7  2015              7.753565  10870.498006           118376  \n",
       "813766   31      7  2015              9.405206   7542.975005            66734  \n",
       "\n",
       "[813767 rows x 22 columns]"
      ]
     },
     "metadata": {},
     "output_type": "display_data"
    }
   ],
   "source": [
    "# Print input/target format \n",
    "print(f'Input shape  : {X1.shape}')\n",
    "print(f'Target shape : {y1.shape}')\n",
    "display(X1)"
   ]
  },
  {
   "cell_type": "code",
   "execution_count": 140,
   "metadata": {},
   "outputs": [
    {
     "name": "stdout",
     "output_type": "stream",
     "text": [
      "Train size : 691701\n",
      "Validation size : 122066\n"
     ]
    }
   ],
   "source": [
    "# Print Data size\n",
    "print(f'Train size : {X_train.shape[0]}')\n",
    "print(f'Validation size : {X_valid.shape[0]}')\n",
    "#print(f'Test size : {X_test.shape[0]}')"
   ]
  },
  {
   "cell_type": "code",
   "execution_count": 141,
   "metadata": {},
   "outputs": [
    {
     "data": {
      "text/plain": [
       "id                      True\n",
       "customers               True\n",
       "promo                   True\n",
       "state_holliday          True\n",
       "store_type              True\n",
       "assortment              True\n",
       "Avgy                    True\n",
       "Avgcustomers            True\n",
       "AvgSalesPerCustomers    True\n",
       "Medy                    True\n",
       "Medcustomers            True\n",
       "MedSalesPerCustomers    True\n",
       "day_of_week             True\n",
       "day_of_year             True\n",
       "week_of_year            True\n",
       "Week                    True\n",
       "Day                     True\n",
       "Month                   True\n",
       "Year                    True\n",
       "ratio_by_day_of_week    True\n",
       "app_p                   True\n",
       "CustomersPerDay         True\n",
       "dtype: bool"
      ]
     },
     "execution_count": 141,
     "metadata": {},
     "output_type": "execute_result"
    }
   ],
   "source": [
    "# Vérifier si X1 et test_df_new ne contient au final que des valeurs numériques\n",
    "\n",
    "X1.apply(lambda s: pd.to_numeric(s, errors='coerce').notnull().all())\n",
    "# test_df_new.apply(lambda s: pd.to_numeric(s, errors='coerce').notnull().all())"
   ]
  },
  {
   "cell_type": "markdown",
   "metadata": {},
   "source": [
    "## Remove Outliers"
   ]
  },
  {
   "cell_type": "code",
   "execution_count": 142,
   "metadata": {},
   "outputs": [],
   "source": [
    "# #remove outliers\n",
    "# train_nozero['ratio'] = train_nozero['y']/train_nozero['customers']\n",
    "# def reject_outliers(df,col_name, m=1):\n",
    "#     return df[ (df[col_name] - df[col_name].mean()).abs() < m * df[col_name].std()]\n",
    "\n",
    "# train_nozero = pd.concat([reject_outliers(df,'ratio') for ID,df in train_nozero.groupby(['id'])])"
   ]
  },
  {
   "cell_type": "code",
   "execution_count": null,
   "metadata": {},
   "outputs": [],
   "source": [
    "# train_nozero = train_nozero.sort_index()\n",
    "# train_nozero = train_nozero.drop(columns=['ratio'])\n",
    "\n",
    "# test_df_new"
   ]
  },
  {
   "cell_type": "markdown",
   "metadata": {},
   "source": [
    "# Train Models Pipeline"
   ]
  },
  {
   "cell_type": "code",
   "execution_count": null,
   "metadata": {},
   "outputs": [],
   "source": [
    "Models = dict()"
   ]
  },
  {
   "cell_type": "code",
   "execution_count": null,
   "metadata": {},
   "outputs": [],
   "source": [
    "def train_model_grid_search(model_name, model, grid, train_data=(X_train,y_train), valid_data=(X_valid,y_valid),\n",
    "                            eval_metric='neg_mean_absolute_error', save_dict=Models, verbose=1):\n",
    "    \"\"\"\n",
    "    model_name : Name of the model\n",
    "    model : sklearn model\n",
    "    grid : Hyper parameters search grid\n",
    "    train_data : (train inputs, train outputs)\n",
    "    eval_metric : evaluation metric in the grid search\n",
    "    ------------------\n",
    "    Trains model on training data using a grid search and cross validation then saves trained model in save_dict\n",
    "    \"\"\"\n",
    "    model_cv = GridSearchCV(model, grid, scoring=eval_metric, cv=5)\n",
    "    model_cv.fit(X_train, y_train)\n",
    "    train_preds, valid_preds = model_cv.predict(X_train) , model_cv.predict(X_valid)\n",
    "    #train_preds, valid_preds = np.maximum(train_preds,0) , np.maximum(valid_preds,0)\n",
    "    save_dict[model_name] = {'model':model_cv,\n",
    "                             'scores':{'train': mae(y_train, train_preds),\n",
    "                                       'valid' :mae(y_valid, valid_preds)\n",
    "                                       }}\n",
    "    if verbose ==1:\n",
    "        print(f\" -  {model_name} best hyperparameters : {model_cv.best_params_}\",'\\n\\n')\n",
    "        print(f\" -  {model_name} results on the train set:\" )\n",
    "        print(mae(y_train, train_preds))\n",
    "        print(f\" -  {model_name} results on the valid set:\")\n",
    "        print(mae(y_valid, valid_preds))\n",
    "        \n",
    "def plot_importance(model):\n",
    "    k = list(zip(X, model.feature_importances_))\n",
    "    k.sort(key=lambda tup: tup[1])\n",
    "\n",
    "    labels, vals = zip(*k)\n",
    "    \n",
    "    plt.barh(np.arange(len(X)), vals, align='center')\n",
    "    plt.yticks(np.arange(len(X)), labels)\n",
    "        "
   ]
  },
  {
   "cell_type": "markdown",
   "metadata": {},
   "source": [
    "### Linear Regression"
   ]
  },
  {
   "cell_type": "code",
   "execution_count": null,
   "metadata": {},
   "outputs": [],
   "source": [
    "train_model_grid_search(model_name = 'Linear Regression',\n",
    "                        model = LinearRegression(),\n",
    "                        grid = {'fit_intercept':[True,False], \n",
    "                                'copy_X':[True, False],\n",
    "                                'normalize':[True,False]})\n"
   ]
  },
  {
   "cell_type": "markdown",
   "metadata": {},
   "source": [
    "### Decision trees\n"
   ]
  },
  {
   "cell_type": "code",
   "execution_count": null,
   "metadata": {},
   "outputs": [],
   "source": [
    "train_model_grid_search(model_name = 'Decision Tree Regression',\n",
    "                        model = DecisionTreeRegressor(random_state = 42),\n",
    "                        grid = {'max_depth':list(range(5,20,4)),'min_samples_leaf':range(1,20,2)\n",
    "                                })"
   ]
  },
  {
   "cell_type": "code",
   "execution_count": null,
   "metadata": {},
   "outputs": [],
   "source": [
    "model = Models['Decision Tree Regression']['model'].best_estimator_\n",
    "plot_importance(model)"
   ]
  },
  {
   "cell_type": "code",
   "execution_count": null,
   "metadata": {},
   "outputs": [],
   "source": [
    "train_model_grid_search(model_name = 'Ada Boost Decision Tree Regression',\n",
    "                        model = AdaBoostRegressor(DecisionTreeRegressor(random_state = 42,max_depth=17,min_samples_leaf=13)),\n",
    "                        grid = {})"
   ]
  },
  {
   "cell_type": "markdown",
   "metadata": {},
   "source": [
    "### Random Forest"
   ]
  },
  {
   "cell_type": "code",
   "execution_count": null,
   "metadata": {},
   "outputs": [],
   "source": [
    "train_model_grid_search(model_name = 'Random Forest Regression',\n",
    "                        model = RandomForestRegressor(min_samples_split=2, random_state = 42, min_samples_leaf=9, max_depth=13),  grid={}\n",
    "                        #grid = {'max_depth': range(10,100,30),\n",
    "                        #        'min_samples_leaf':range(2,10,3),\n",
    "                        #        'n_estimators': [100, 200, 300]}\n",
    "                        )"
   ]
  },
  {
   "cell_type": "markdown",
   "metadata": {},
   "source": [
    "### K-NN"
   ]
  },
  {
   "cell_type": "code",
   "execution_count": null,
   "metadata": {},
   "outputs": [],
   "source": [
    "train_model_grid_search(model_name = 'K-NN',\n",
    "                        model = KNeighborsRegressor(),\n",
    "                        grid = {#'n_neighbors':range(1,7),\n",
    "                                #'weights':['uniform','distance'],\n",
    "                                })"
   ]
  },
  {
   "cell_type": "markdown",
   "metadata": {},
   "source": [
    "### XGBoost"
   ]
  },
  {
   "cell_type": "code",
   "execution_count": null,
   "metadata": {},
   "outputs": [],
   "source": [
    "train_model_grid_search(model_name = 'XGBoost',\n",
    "                        model = XGBRegressor(n_jobs = -1,\n",
    "                                        n_estimators = 130,\n",
    "                                        eta = 0.1,\n",
    "                                        max_depth = 15,\n",
    "                                        min_child_weight = 3,\n",
    "                                        subsample = 0.8,\n",
    "                                        colsample_bytree = 0.8,\n",
    "                                        tree_method = 'exact',\n",
    "                                        reg_alpha = 0.06,\n",
    "                                        silent = 0,\n",
    "                                        random_state = 1043),\n",
    "                        grid = {'max_depth': range(15,23,2)})"
   ]
  },
  {
   "cell_type": "code",
   "execution_count": null,
   "metadata": {},
   "outputs": [],
   "source": [
    "model = Models['XGBoost']['model'].best_estimator_\n",
    "plot_importance(model)"
   ]
  },
  {
   "cell_type": "markdown",
   "metadata": {},
   "source": [
    "### SVM"
   ]
  },
  {
   "cell_type": "code",
   "execution_count": null,
   "metadata": {},
   "outputs": [],
   "source": [
    "train_model_grid_search(model_name = 'SVM',\n",
    "                        model = SVR(),\n",
    "                        grid = {#'C':[0.01, 1, 10],\n",
    "#                                 'gamma':[0.001, 0.01, 0.1, 1],\n",
    "                                'kernel':['linear']})"
   ]
  },
  {
   "cell_type": "markdown",
   "metadata": {},
   "source": [
    "### Neural Network"
   ]
  },
  {
   "cell_type": "code",
   "execution_count": null,
   "metadata": {},
   "outputs": [],
   "source": [
    "# Separating the features and the target\n",
    "X, y = train_df_new.drop(columns=['y', 'id']), train_df_new['y']\n",
    "\n",
    "# Standardizing the features\n",
    "scaler = StandardScaler()\n",
    "X = scaler.fit_transform(X)\n",
    "\n",
    "# Print input/target format \n",
    "print(f'Input shape  : {X.shape}')\n",
    "print(f'Target shape : {y.shape}\\n')\n",
    "print(f'Target : \\n{y}')"
   ]
  },
  {
   "cell_type": "code",
   "execution_count": null,
   "metadata": {},
   "outputs": [],
   "source": [
    "# Split to train and test \n",
    "X_train, X_valid, y_train, y_valid = train_test_split(X, y, test_size=0.2, random_state=42)\n",
    "X_test = scaler.transform(test_df_new.drop(columns=['y', 'id']))\n",
    "\n",
    "# Print Data size\n",
    "print(f'Train size : {X_train.shape[0]}')\n",
    "print(f'Validation size : {X_valid.shape[0]}')\n",
    "print(f'Test size : {X_test.shape[0]}')"
   ]
  },
  {
   "cell_type": "code",
   "execution_count": null,
   "metadata": {},
   "outputs": [],
   "source": [
    "# create model\n",
    "model = Sequential()\n",
    "model.add(Dense(32, input_dim=X.shape[1], activation='softplus'))\n",
    "model.add(Dropout(0.3))\n",
    "model.add(Dense(64, activation='softplus'))\n",
    "model.add(Dropout(0.3))\n",
    "model.add(Dense(64, activation='softplus'))\n",
    "model.add(Dropout(0.3))\n",
    "model.add(Dense(32, activation='relu'))\n",
    "model.add(Dropout(0.3))\n",
    "model.add(Dense(1, activation='linear'))\n",
    "# Compile model\n",
    "model.compile(loss='mean_absolute_error', optimizer=Adam(learning_rate=0.0001), metrics=['mean_absolute_error'])\n",
    "model.summary()"
   ]
  },
  {
   "cell_type": "code",
   "execution_count": null,
   "metadata": {},
   "outputs": [],
   "source": [
    "# Training params\n",
    "nb_epochs = 50\n",
    "model_hist = model.fit(x=X_train, y=y_train, validation_data=(X_valid,y_valid), batch_size=32, epochs=nb_epochs, verbose=1).history"
   ]
  },
  {
   "cell_type": "code",
   "execution_count": null,
   "metadata": {},
   "outputs": [],
   "source": [
    "##Prediction\n",
    "train_preds = model.predict(X_train)\n",
    "valid_preds = model.predict(X_valid)\n",
    "Models['Neural Network'] = {'model':model,\n",
    "                             'scores':{'train':mae(y_train, train_preds),\n",
    "                                       'valid' :mae(y_valid, valid_preds)}}\n",
    "print(\"   -   MAE on the train set : {:.2f}\".format(Models['Neural Network']['scores']['train']))\n",
    "print(\"   -   MAE on the test set : {:.2f}\".format(Models['Neural Network']['scores']['valid']))"
   ]
  },
  {
   "cell_type": "code",
   "execution_count": null,
   "metadata": {},
   "outputs": [],
   "source": []
  },
  {
   "cell_type": "markdown",
   "metadata": {},
   "source": [
    "# Approch Results"
   ]
  },
  {
   "cell_type": "code",
   "execution_count": null,
   "metadata": {},
   "outputs": [],
   "source": [
    "df_results_1 = pd.DataFrame([[model['scores']['train'],model['scores']['valid']] for model_name,model in Models.items()],\n",
    "                           columns=['train', 'validation'],\n",
    "                           index=list(Models.keys()))\n",
    "\n",
    "df_results_1.plot.bar(rot=0, figsize=(20,10))"
   ]
  },
  {
   "cell_type": "markdown",
   "metadata": {},
   "source": [
    "# MODELS - trained on both train and valid set"
   ]
  },
  {
   "cell_type": "markdown",
   "metadata": {},
   "source": [
    "## XGBoost"
   ]
  },
  {
   "cell_type": "code",
   "execution_count": 101,
   "metadata": {},
   "outputs": [
    {
     "data": {
      "text/plain": [
       "XGBRegressor(base_score=0.5, booster='gbtree', colsample_bylevel=1,\n",
       "             colsample_bynode=1, colsample_bytree=0.8, eta=0.1, gamma=0,\n",
       "             gpu_id=-1, importance_type='gain', interaction_constraints='',\n",
       "             learning_rate=0.100000001, max_delta_step=0, max_depth=17,\n",
       "             min_child_weight=4, missing=nan, monotone_constraints='()',\n",
       "             n_estimators=140, n_jobs=-1, num_parallel_tree=1,\n",
       "             random_state=1043, reg_alpha=0.06, reg_lambda=1,\n",
       "             scale_pos_weight=1, subsample=0.8, tree_method='exact',\n",
       "             validate_parameters=1, verbosity=None)"
      ]
     },
     "execution_count": 101,
     "metadata": {},
     "output_type": "execute_result"
    }
   ],
   "source": [
    "xgb = XGBRegressor(n_jobs = -1,\n",
    "    n_estimators = 140,\n",
    "    eta = 0.1,\n",
    "    max_depth = 17,\n",
    "    min_child_weight = 4,\n",
    "    subsample = 0.8,\n",
    "    colsample_bytree = 0.8,\n",
    "    tree_method = 'exact',\n",
    "    reg_alpha = 0.06,\n",
    "    random_state = 1043)\n",
    "\n",
    "xgb.fit(X1, y1,\n",
    "                 eval_metric = 'mae'\n",
    "                )"
   ]
  },
  {
   "cell_type": "code",
   "execution_count": 102,
   "metadata": {},
   "outputs": [
    {
     "name": "stderr",
     "output_type": "stream",
     "text": [
      "<ipython-input-94-f6b3fb7f2d17>:22: FutureWarning: Series.dt.weekofyear and Series.dt.week have been deprecated.  Please use Series.dt.isocalendar().week instead.\n",
      "  merged['Week'] = pd.to_datetime(merged['date']).dt.week\n"
     ]
    },
    {
     "data": {
      "text/plain": [
       "array([ 377.70322,  315.00275,  402.66525, ..., 7133.9966 , 4990.644  ,\n",
       "       6940.3374 ], dtype=float32)"
      ]
     },
     "execution_count": 102,
     "metadata": {},
     "output_type": "execute_result"
    }
   ],
   "source": [
    "features = build_features(test_df, store_df)\n",
    "\n",
    "test_preds = xgb.predict(features[X])\n",
    "\n",
    "test_preds"
   ]
  },
  {
   "cell_type": "code",
   "execution_count": 277,
   "metadata": {},
   "outputs": [
    {
     "name": "stdout",
     "output_type": "stream",
     "text": [
      "[0]\tvalidation_0-mae:5202.79492\tvalidation_1-mae:5200.29883\n",
      "[1]\tvalidation_0-mae:4682.87109\tvalidation_1-mae:4680.30908\n",
      "[2]\tvalidation_0-mae:4214.97266\tvalidation_1-mae:4212.58496\n",
      "[3]\tvalidation_0-mae:3793.84424\tvalidation_1-mae:3791.52124\n",
      "[4]\tvalidation_0-mae:3414.82202\tvalidation_1-mae:3412.53540\n",
      "[5]\tvalidation_0-mae:3073.68896\tvalidation_1-mae:3071.35132\n",
      "[6]\tvalidation_0-mae:2766.63159\tvalidation_1-mae:2764.33691\n",
      "[7]\tvalidation_0-mae:2490.27246\tvalidation_1-mae:2487.89258\n",
      "[8]\tvalidation_0-mae:2241.59033\tvalidation_1-mae:2239.28198\n",
      "[9]\tvalidation_0-mae:2018.06006\tvalidation_1-mae:2015.82605\n",
      "[10]\tvalidation_0-mae:1816.66931\tvalidation_1-mae:1814.53491\n",
      "[11]\tvalidation_0-mae:1635.43420\tvalidation_1-mae:1633.40442\n",
      "[12]\tvalidation_0-mae:1472.36585\tvalidation_1-mae:1470.41321\n",
      "[13]\tvalidation_0-mae:1325.83740\tvalidation_1-mae:1323.88586\n",
      "[14]\tvalidation_0-mae:1193.78491\tvalidation_1-mae:1191.88123\n",
      "[15]\tvalidation_0-mae:1075.06470\tvalidation_1-mae:1073.30408\n",
      "[16]\tvalidation_0-mae:968.37152\tvalidation_1-mae:966.79156\n",
      "[17]\tvalidation_0-mae:872.46387\tvalidation_1-mae:871.08276\n",
      "[18]\tvalidation_0-mae:786.49188\tvalidation_1-mae:785.47772\n",
      "[19]\tvalidation_0-mae:709.49756\tvalidation_1-mae:708.89349\n",
      "[20]\tvalidation_0-mae:640.56354\tvalidation_1-mae:640.66174\n",
      "[21]\tvalidation_0-mae:579.17688\tvalidation_1-mae:580.19629\n",
      "[22]\tvalidation_0-mae:524.57678\tvalidation_1-mae:526.70599\n",
      "[23]\tvalidation_0-mae:476.22223\tvalidation_1-mae:479.96066\n",
      "[24]\tvalidation_0-mae:433.51050\tvalidation_1-mae:439.05267\n",
      "[25]\tvalidation_0-mae:395.98419\tvalidation_1-mae:403.76877\n",
      "[26]\tvalidation_0-mae:363.23074\tvalidation_1-mae:373.56683\n",
      "[27]\tvalidation_0-mae:334.67795\tvalidation_1-mae:347.72034\n",
      "[28]\tvalidation_0-mae:309.95056\tvalidation_1-mae:325.71680\n",
      "[29]\tvalidation_0-mae:288.70627\tvalidation_1-mae:307.39624\n",
      "[30]\tvalidation_0-mae:270.22965\tvalidation_1-mae:291.85162\n",
      "[31]\tvalidation_0-mae:254.38710\tvalidation_1-mae:279.06839\n",
      "[32]\tvalidation_0-mae:240.70236\tvalidation_1-mae:268.20297\n",
      "[33]\tvalidation_0-mae:229.07903\tvalidation_1-mae:259.20471\n",
      "[34]\tvalidation_0-mae:219.01874\tvalidation_1-mae:251.82707\n",
      "[35]\tvalidation_0-mae:210.64406\tvalidation_1-mae:245.49824\n",
      "[36]\tvalidation_0-mae:203.48212\tvalidation_1-mae:240.42091\n",
      "[37]\tvalidation_0-mae:196.88344\tvalidation_1-mae:236.14865\n",
      "[38]\tvalidation_0-mae:191.14577\tvalidation_1-mae:232.69699\n",
      "[39]\tvalidation_0-mae:186.16917\tvalidation_1-mae:229.82667\n",
      "[40]\tvalidation_0-mae:181.73875\tvalidation_1-mae:227.47246\n",
      "[41]\tvalidation_0-mae:178.09903\tvalidation_1-mae:225.62999\n",
      "[42]\tvalidation_0-mae:174.94890\tvalidation_1-mae:224.05501\n",
      "[43]\tvalidation_0-mae:172.12552\tvalidation_1-mae:222.73000\n",
      "[44]\tvalidation_0-mae:169.43137\tvalidation_1-mae:221.58902\n",
      "[45]\tvalidation_0-mae:167.09210\tvalidation_1-mae:220.64122\n",
      "[46]\tvalidation_0-mae:165.02673\tvalidation_1-mae:219.88234\n",
      "[47]\tvalidation_0-mae:162.85213\tvalidation_1-mae:219.07974\n",
      "[48]\tvalidation_0-mae:160.97157\tvalidation_1-mae:218.51584\n",
      "[49]\tvalidation_0-mae:159.10417\tvalidation_1-mae:217.97287\n",
      "[50]\tvalidation_0-mae:157.60741\tvalidation_1-mae:217.53323\n",
      "[51]\tvalidation_0-mae:156.05763\tvalidation_1-mae:217.19952\n",
      "[52]\tvalidation_0-mae:154.63081\tvalidation_1-mae:216.83756\n",
      "[53]\tvalidation_0-mae:153.16325\tvalidation_1-mae:216.57790\n",
      "[54]\tvalidation_0-mae:151.85500\tvalidation_1-mae:216.30456\n",
      "[55]\tvalidation_0-mae:150.79361\tvalidation_1-mae:216.07230\n",
      "[56]\tvalidation_0-mae:149.70236\tvalidation_1-mae:215.88275\n",
      "[57]\tvalidation_0-mae:148.71860\tvalidation_1-mae:215.68785\n",
      "[58]\tvalidation_0-mae:148.06209\tvalidation_1-mae:215.58774\n",
      "[59]\tvalidation_0-mae:147.20453\tvalidation_1-mae:215.47174\n",
      "[60]\tvalidation_0-mae:146.30078\tvalidation_1-mae:215.31416\n",
      "[61]\tvalidation_0-mae:145.51782\tvalidation_1-mae:215.18765\n",
      "[62]\tvalidation_0-mae:144.57562\tvalidation_1-mae:215.00180\n",
      "[63]\tvalidation_0-mae:143.55553\tvalidation_1-mae:214.86113\n",
      "[64]\tvalidation_0-mae:143.01341\tvalidation_1-mae:214.79781\n",
      "[65]\tvalidation_0-mae:142.39671\tvalidation_1-mae:214.71370\n",
      "[66]\tvalidation_0-mae:141.81680\tvalidation_1-mae:214.66501\n",
      "[67]\tvalidation_0-mae:141.09676\tvalidation_1-mae:214.58679\n",
      "[68]\tvalidation_0-mae:140.19826\tvalidation_1-mae:214.43695\n",
      "[69]\tvalidation_0-mae:139.77145\tvalidation_1-mae:214.35243\n",
      "[70]\tvalidation_0-mae:139.18576\tvalidation_1-mae:214.25064\n",
      "[71]\tvalidation_0-mae:138.68545\tvalidation_1-mae:214.18561\n",
      "[72]\tvalidation_0-mae:138.38884\tvalidation_1-mae:214.17354\n",
      "[73]\tvalidation_0-mae:137.93649\tvalidation_1-mae:214.11011\n",
      "[74]\tvalidation_0-mae:137.34187\tvalidation_1-mae:213.99414\n",
      "[75]\tvalidation_0-mae:137.17616\tvalidation_1-mae:213.97362\n",
      "[76]\tvalidation_0-mae:136.34994\tvalidation_1-mae:213.92653\n",
      "[77]\tvalidation_0-mae:135.78954\tvalidation_1-mae:213.84085\n",
      "[78]\tvalidation_0-mae:135.28983\tvalidation_1-mae:213.70393\n",
      "[79]\tvalidation_0-mae:134.45175\tvalidation_1-mae:213.63551\n",
      "[80]\tvalidation_0-mae:134.07072\tvalidation_1-mae:213.60597\n",
      "[81]\tvalidation_0-mae:133.24707\tvalidation_1-mae:213.54201\n",
      "[82]\tvalidation_0-mae:132.90402\tvalidation_1-mae:213.51726\n",
      "[83]\tvalidation_0-mae:132.57129\tvalidation_1-mae:213.46545\n",
      "[84]\tvalidation_0-mae:132.11615\tvalidation_1-mae:213.40149\n",
      "[85]\tvalidation_0-mae:131.51489\tvalidation_1-mae:213.30399\n",
      "[86]\tvalidation_0-mae:131.24260\tvalidation_1-mae:213.29747\n",
      "[87]\tvalidation_0-mae:130.77492\tvalidation_1-mae:213.26392\n",
      "[88]\tvalidation_0-mae:130.30362\tvalidation_1-mae:213.23073\n",
      "[89]\tvalidation_0-mae:130.18864\tvalidation_1-mae:213.23614\n",
      "[90]\tvalidation_0-mae:129.86243\tvalidation_1-mae:213.17470\n",
      "[91]\tvalidation_0-mae:129.28691\tvalidation_1-mae:213.14339\n",
      "[92]\tvalidation_0-mae:128.92029\tvalidation_1-mae:213.13414\n",
      "[93]\tvalidation_0-mae:128.58847\tvalidation_1-mae:213.10930\n",
      "[94]\tvalidation_0-mae:128.53001\tvalidation_1-mae:213.10315\n",
      "[95]\tvalidation_0-mae:128.16124\tvalidation_1-mae:213.06280\n",
      "[96]\tvalidation_0-mae:128.06006\tvalidation_1-mae:213.06076\n",
      "[97]\tvalidation_0-mae:127.04999\tvalidation_1-mae:212.89468\n",
      "[98]\tvalidation_0-mae:126.91377\tvalidation_1-mae:212.89369\n",
      "[99]\tvalidation_0-mae:126.49671\tvalidation_1-mae:212.86440\n",
      "[100]\tvalidation_0-mae:126.18919\tvalidation_1-mae:212.84863\n",
      "[101]\tvalidation_0-mae:125.48408\tvalidation_1-mae:212.79999\n",
      "[102]\tvalidation_0-mae:125.16678\tvalidation_1-mae:212.78375\n",
      "[103]\tvalidation_0-mae:125.07212\tvalidation_1-mae:212.78215\n",
      "[104]\tvalidation_0-mae:124.47623\tvalidation_1-mae:212.70935\n",
      "[105]\tvalidation_0-mae:124.08549\tvalidation_1-mae:212.70482\n",
      "[106]\tvalidation_0-mae:123.52546\tvalidation_1-mae:212.67088\n",
      "[107]\tvalidation_0-mae:123.37988\tvalidation_1-mae:212.66589\n",
      "[108]\tvalidation_0-mae:123.10943\tvalidation_1-mae:212.65166\n",
      "[109]\tvalidation_0-mae:122.54717\tvalidation_1-mae:212.62486\n",
      "[110]\tvalidation_0-mae:122.16465\tvalidation_1-mae:212.59241\n",
      "[111]\tvalidation_0-mae:122.02972\tvalidation_1-mae:212.58569\n",
      "[112]\tvalidation_0-mae:121.62237\tvalidation_1-mae:212.58607\n",
      "[113]\tvalidation_0-mae:121.33977\tvalidation_1-mae:212.57500\n",
      "[114]\tvalidation_0-mae:120.88152\tvalidation_1-mae:212.55670\n",
      "[115]\tvalidation_0-mae:120.62915\tvalidation_1-mae:212.56984\n",
      "[116]\tvalidation_0-mae:120.35594\tvalidation_1-mae:212.55347\n",
      "[117]\tvalidation_0-mae:120.03285\tvalidation_1-mae:212.53207\n",
      "[118]\tvalidation_0-mae:119.89574\tvalidation_1-mae:212.50427\n",
      "[119]\tvalidation_0-mae:119.68161\tvalidation_1-mae:212.50125\n",
      "[120]\tvalidation_0-mae:119.53739\tvalidation_1-mae:212.49319\n",
      "[121]\tvalidation_0-mae:119.30517\tvalidation_1-mae:212.49953\n",
      "[122]\tvalidation_0-mae:119.22749\tvalidation_1-mae:212.50027\n",
      "[123]\tvalidation_0-mae:118.63161\tvalidation_1-mae:212.47972\n",
      "[124]\tvalidation_0-mae:117.95325\tvalidation_1-mae:212.41847\n",
      "[125]\tvalidation_0-mae:117.69107\tvalidation_1-mae:212.38629\n",
      "[126]\tvalidation_0-mae:117.62059\tvalidation_1-mae:212.38472\n",
      "[127]\tvalidation_0-mae:117.24927\tvalidation_1-mae:212.38739\n",
      "[128]\tvalidation_0-mae:116.88928\tvalidation_1-mae:212.38072\n",
      "[129]\tvalidation_0-mae:116.82844\tvalidation_1-mae:212.38777\n",
      "[130]\tvalidation_0-mae:116.14387\tvalidation_1-mae:212.33426\n",
      "[131]\tvalidation_0-mae:115.60004\tvalidation_1-mae:212.32866\n",
      "[132]\tvalidation_0-mae:115.25236\tvalidation_1-mae:212.32253\n",
      "[133]\tvalidation_0-mae:115.19305\tvalidation_1-mae:212.32393\n",
      "[134]\tvalidation_0-mae:115.09862\tvalidation_1-mae:212.32092\n",
      "[135]\tvalidation_0-mae:114.95573\tvalidation_1-mae:212.32765\n",
      "[136]\tvalidation_0-mae:114.60056\tvalidation_1-mae:212.32745\n",
      "[137]\tvalidation_0-mae:114.35037\tvalidation_1-mae:212.33014\n"
     ]
    },
    {
     "name": "stdout",
     "output_type": "stream",
     "text": [
      "[138]\tvalidation_0-mae:114.19471\tvalidation_1-mae:212.33696\n",
      "[139]\tvalidation_0-mae:113.72307\tvalidation_1-mae:212.32809\n"
     ]
    },
    {
     "data": {
      "text/plain": [
       "XGBRegressor(base_score=0.5, booster='gbtree', colsample_bylevel=1,\n",
       "             colsample_bynode=1, colsample_bytree=0.8, eta=0.1, gamma=0,\n",
       "             gpu_id=-1, importance_type='gain', interaction_constraints='',\n",
       "             learning_rate=0.100000001, max_delta_step=0, max_depth=17,\n",
       "             min_child_weight=4, missing=nan, monotone_constraints='()',\n",
       "             n_estimators=140, n_jobs=-1, num_parallel_tree=1,\n",
       "             random_state=1043, reg_alpha=0.06, reg_lambda=1,\n",
       "             scale_pos_weight=1, subsample=0.8, tree_method='exact',\n",
       "             validate_parameters=1, verbosity=None)"
      ]
     },
     "execution_count": 277,
     "metadata": {},
     "output_type": "execute_result"
    }
   ],
   "source": [
    "xgb.fit(X_train[X], y_train, \n",
    "                 eval_set = [(X_train[X], y_train), (X_valid[X], y_valid)],\n",
    "                 eval_metric = 'mae',\n",
    "                 early_stopping_rounds = 200\n",
    "                )"
   ]
  },
  {
   "cell_type": "code",
   "execution_count": 38,
   "metadata": {},
   "outputs": [],
   "source": [
    "def evaluate_model(model, X, y):\n",
    "    cv = RepeatedKFold(n_splits=5, n_repeats=5, random_state=1043)\n",
    "    scores = cross_val_score(model, X, y, scoring='neg_mean_absolute_error', cv=cv, n_jobs=-1, error_score='raise',verbose=1)\n",
    "    return scores"
   ]
  },
  {
   "cell_type": "code",
   "execution_count": null,
   "metadata": {},
   "outputs": [
    {
     "name": "stderr",
     "output_type": "stream",
     "text": [
      "[Parallel(n_jobs=-1)]: Using backend LokyBackend with 8 concurrent workers.\n"
     ]
    }
   ],
   "source": [
    "evaluate_model(xgb,X1,y1)"
   ]
  },
  {
   "cell_type": "markdown",
   "metadata": {},
   "source": [
    "## Random Forest"
   ]
  },
  {
   "cell_type": "code",
   "execution_count": 143,
   "metadata": {},
   "outputs": [
    {
     "data": {
      "text/plain": [
       "RandomForestRegressor(max_depth=17, n_estimators=300, n_jobs=-1,\n",
       "                      random_state=1043)"
      ]
     },
     "execution_count": 143,
     "metadata": {},
     "output_type": "execute_result"
    }
   ],
   "source": [
    "rdmForest = RandomForestRegressor(n_estimators=300, max_depth=17, n_jobs=-1, random_state=1043)\n",
    "\n",
    "rdmForest.fit(X1,y1)"
   ]
  },
  {
   "cell_type": "code",
   "execution_count": 144,
   "metadata": {},
   "outputs": [
    {
     "name": "stderr",
     "output_type": "stream",
     "text": [
      "<ipython-input-135-f6b3fb7f2d17>:22: FutureWarning: Series.dt.weekofyear and Series.dt.week have been deprecated.  Please use Series.dt.isocalendar().week instead.\n",
      "  merged['Week'] = pd.to_datetime(merged['date']).dt.week\n"
     ]
    },
    {
     "data": {
      "text/plain": [
       "array([   0.        ,    0.        ,    0.        , ..., 6884.79827785,\n",
       "       5145.19432829, 7031.25198579])"
      ]
     },
     "execution_count": 144,
     "metadata": {},
     "output_type": "execute_result"
    }
   ],
   "source": [
    "features = build_features(test_df, store_df)\n",
    "\n",
    "test_preds = rdmForest.predict(features[X])\n",
    "\n",
    "test_preds"
   ]
  },
  {
   "cell_type": "code",
   "execution_count": 48,
   "metadata": {},
   "outputs": [
    {
     "data": {
      "text/plain": [
       "121.79383110328251"
      ]
     },
     "execution_count": 48,
     "metadata": {},
     "output_type": "execute_result"
    }
   ],
   "source": [
    "mae(y1,model.predict(X1))"
   ]
  },
  {
   "cell_type": "markdown",
   "metadata": {},
   "source": [
    "## Decision Tree Regressor"
   ]
  },
  {
   "cell_type": "code",
   "execution_count": null,
   "metadata": {},
   "outputs": [],
   "source": [
    "desision_tree = DecisionTreeRegressor(splitter='random', max_depth=16, random_state=21)\n",
    "\n",
    "desision_tree.fit(X1, y1)"
   ]
  },
  {
   "cell_type": "code",
   "execution_count": null,
   "metadata": {},
   "outputs": [],
   "source": [
    "features = build_features(test_df, store_df)\n",
    "\n",
    "test_preds = desision_tree.predict(features[X])\n",
    "\n",
    "test_preds"
   ]
  },
  {
   "cell_type": "markdown",
   "metadata": {},
   "source": [
    "## LightGBM"
   ]
  },
  {
   "cell_type": "code",
   "execution_count": 57,
   "metadata": {},
   "outputs": [
    {
     "name": "stdout",
     "output_type": "stream",
     "text": [
      "[LightGBM] [Warning] Unknown parameter: n_leaves\n"
     ]
    },
    {
     "data": {
      "text/plain": [
       "LGBMRegressor(colsample_bytree=0.8, n_estimators=700, n_leaves=50,\n",
       "              reg_alpha=0.1, reg_lambda=1, subsample=1)"
      ]
     },
     "execution_count": 57,
     "metadata": {},
     "output_type": "execute_result"
    }
   ],
   "source": [
    "import lightgbm as lgb\n",
    "base_lgb_model = lgb.LGBMRegressor(n_leaves=50,\n",
    "                               n_estimators=700, \n",
    "                               max_depth=-1,  \n",
    "                               learning_rate=0.3,\n",
    "                               subsample=1,\n",
    "                               colsample_bytree=0.8,\n",
    "                               reg_alpha=0.1,\n",
    "                               reg_lambda=1,\n",
    "                               eval_metric='mae')\n",
    "\n",
    "base_lgb_model.fit(X1, y1)"
   ]
  },
  {
   "cell_type": "code",
   "execution_count": 58,
   "metadata": {},
   "outputs": [
    {
     "name": "stderr",
     "output_type": "stream",
     "text": [
      "<ipython-input-30-f6b3fb7f2d17>:22: FutureWarning: Series.dt.weekofyear and Series.dt.week have been deprecated.  Please use Series.dt.isocalendar().week instead.\n",
      "  merged['Week'] = pd.to_datetime(merged['date']).dt.week\n"
     ]
    },
    {
     "data": {
      "text/plain": [
       "array([ -75.45752888,  -16.87718951,   45.82436731, ..., 7054.53776692,\n",
       "       5183.84230821, 6891.62805591])"
      ]
     },
     "execution_count": 58,
     "metadata": {},
     "output_type": "execute_result"
    }
   ],
   "source": [
    "features = build_features(test_df, store_df)\n",
    "\n",
    "test_preds = base_lgb_model.predict(features[X])\n",
    "\n",
    "test_preds"
   ]
  },
  {
   "cell_type": "markdown",
   "metadata": {},
   "source": [
    "## Stacking Models"
   ]
  },
  {
   "cell_type": "code",
   "execution_count": 42,
   "metadata": {},
   "outputs": [
    {
     "data": {
      "text/plain": [
       "StackingRegressor(cv=5,\n",
       "                  estimators=[('xgboost',\n",
       "                               XGBRegressor(base_score=None, booster=None,\n",
       "                                            colsample_bylevel=None,\n",
       "                                            colsample_bynode=None,\n",
       "                                            colsample_bytree=0.8, eta=0.1,\n",
       "                                            gamma=None, gpu_id=None,\n",
       "                                            importance_type='gain',\n",
       "                                            interaction_constraints=None,\n",
       "                                            learning_rate=None,\n",
       "                                            max_delta_step=None, max_depth=17,\n",
       "                                            min_child_weight=4, missing=nan,\n",
       "                                            monotone_constraints=None,\n",
       "                                            n_estimators=140, n_jobs=-1,\n",
       "                                            num_parallel_tree=None,\n",
       "                                            random_state=1043, reg_alpha=0.06,\n",
       "                                            reg_lambda=None,\n",
       "                                            scale_pos_weight=None,\n",
       "                                            subsample=0.8, tree_method='exact',\n",
       "                                            validate_parameters=None,\n",
       "                                            verbosity=None)),\n",
       "                              ('RandomForest', RandomForestRegressor()),\n",
       "                              ('cart',\n",
       "                               DecisionTreeRegressor(max_depth=17,\n",
       "                                                     min_samples_leaf=13))],\n",
       "                  final_estimator=LinearRegression())"
      ]
     },
     "execution_count": 42,
     "metadata": {},
     "output_type": "execute_result"
    }
   ],
   "source": [
    "level0 = list()\n",
    "level0.append(('xgboost', XGBRegressor(n_jobs = -1,\n",
    "    n_estimators = 140,\n",
    "    eta = 0.1,\n",
    "    max_depth = 17,\n",
    "    min_child_weight = 4,\n",
    "    subsample = 0.8,\n",
    "    colsample_bytree = 0.8,\n",
    "    tree_method = 'exact',\n",
    "    reg_alpha = 0.06,\n",
    "    random_state = 1043)))\n",
    "level0.append(('RandomForest', RandomForestRegressor()))\n",
    "# define meta learner model\n",
    "level1 = LinearRegression()\n",
    "# define the stacking ensemble\n",
    "model = StackingRegressor(estimators=level0, final_estimator=level1, cv=5)\n",
    "# fit the model on all available data\n",
    "model.fit(X1, y1)"
   ]
  },
  {
   "cell_type": "code",
   "execution_count": null,
   "metadata": {},
   "outputs": [],
   "source": [
    "features = build_features(test_df, store_df)\n",
    "\n",
    "test_preds = model.predict(features[X])\n",
    "\n",
    "test_preds"
   ]
  },
  {
   "cell_type": "markdown",
   "metadata": {},
   "source": [
    "## Error Observation"
   ]
  },
  {
   "cell_type": "code",
   "execution_count": 77,
   "metadata": {},
   "outputs": [],
   "source": [
    "y_pred = best_model.predict(X1)\n",
    "X2 = X1\n",
    "X2['abs_error'] = np.abs(y1-y_pred)\n",
    "X2['y'], X2['y_pred'] = y1 , y_pred\n",
    "X2 = X2.sort_values(by=['abs_error'], ascending=False)\n",
    "#X2"
   ]
  },
  {
   "cell_type": "code",
   "execution_count": 131,
   "metadata": {},
   "outputs": [],
   "source": [
    "X2['ratio_actual'] = X2['y'] / X2['customers']"
   ]
  },
  {
   "cell_type": "code",
   "execution_count": 76,
   "metadata": {},
   "outputs": [],
   "source": [
    "#X2.head(60)"
   ]
  },
  {
   "cell_type": "code",
   "execution_count": 138,
   "metadata": {},
   "outputs": [
    {
     "data": {
      "text/plain": [
       "count    812925.000000\n",
       "mean        155.294418\n",
       "std         164.310684\n",
       "min           0.000019\n",
       "25%          26.411133\n",
       "50%         113.291016\n",
       "75%         233.113525\n",
       "max        5929.381836\n",
       "Name: abs_error, dtype: float64"
      ]
     },
     "execution_count": 138,
     "metadata": {},
     "output_type": "execute_result"
    }
   ],
   "source": [
    "X2['abs_error'].describe()\n",
    "#X2.boxplot(column='abs_error')"
   ]
  },
  {
   "cell_type": "markdown",
   "metadata": {},
   "source": [
    "## Save as .csv"
   ]
  },
  {
   "cell_type": "code",
   "execution_count": 149,
   "metadata": {},
   "outputs": [
    {
     "data": {
      "text/plain": [
       "index\n",
       "0            0.000000\n",
       "1            0.000000\n",
       "2            0.000000\n",
       "3            0.000000\n",
       "4            0.000000\n",
       "             ...     \n",
       "203437    7011.666268\n",
       "203438    9591.057622\n",
       "203439    6884.798278\n",
       "203440    5145.194328\n",
       "203441    7031.251986\n",
       "Name: y, Length: 203442, dtype: float64"
      ]
     },
     "execution_count": 149,
     "metadata": {},
     "output_type": "execute_result"
    }
   ],
   "source": [
    "d = {'y': test_preds}\n",
    "result = pd.DataFrame(data=d)\n",
    "result.index.names = ['index']\n",
    "result = result['y'].apply(lambda x: 0 if x<200 else x)\n",
    "result"
   ]
  },
  {
   "cell_type": "code",
   "execution_count": 150,
   "metadata": {},
   "outputs": [],
   "source": [
    "result.to_csv('solution.csv',encoding='ISO-8859-1', sep=',')"
   ]
  }
 ],
 "metadata": {
  "colab": {
   "collapsed_sections": [],
   "name": "ProjetDATA.ipynb",
   "provenance": []
  },
  "kernelspec": {
   "display_name": "Python 3",
   "language": "python",
   "name": "python3"
  },
  "language_info": {
   "codemirror_mode": {
    "name": "ipython",
    "version": 3
   },
   "file_extension": ".py",
   "mimetype": "text/x-python",
   "name": "python",
   "nbconvert_exporter": "python",
   "pygments_lexer": "ipython3",
   "version": "3.8.5"
  },
  "widgets": {
   "application/vnd.jupyter.widget-state+json": {
    "state": {},
    "version_major": 2,
    "version_minor": 0
   }
  }
 },
 "nbformat": 4,
 "nbformat_minor": 1
}
