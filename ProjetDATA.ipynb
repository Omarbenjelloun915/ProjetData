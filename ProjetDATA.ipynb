{
 "cells": [
  {
   "cell_type": "code",
   "execution_count": 1,
   "metadata": {
    "id": "xmqrsG5JuCfE"
   },
   "outputs": [],
   "source": [
    "import kaggle\n",
    "import pandas as pd"
   ]
  },
  {
   "cell_type": "code",
   "execution_count": 2,
   "metadata": {
    "colab": {
     "base_uri": "https://localhost:8080/"
    },
    "id": "bM4EmbEAwUfO",
    "outputId": "e4a42622-2784-417b-e39f-d1ba0f2b906c"
   },
   "outputs": [
    {
     "name": "stderr",
     "output_type": "stream",
     "text": [
      "C:\\Users\\omabe\\anaconda3\\lib\\site-packages\\IPython\\core\\interactiveshell.py:3146: DtypeWarning: Columns (5) have mixed types.Specify dtype option on import or set low_memory=False.\n",
      "  has_raised = await self.run_ast_nodes(code_ast.body, cell_name,\n"
     ]
    }
   ],
   "source": [
    "# Importation des jeux de données\n",
    "train_df = pd.read_csv(\"certificatbigdata/train.csv\",delimiter=\",\")\n",
    "test_df = pd.read_csv(\"certificatbigdata/test.csv\",delimiter=\",\")\n",
    "store_df = pd.read_csv(\"certificatbigdata/store_metadata.csv\",delimiter=\",\")\n",
    "submission_df = pd.read_csv(\"certificatbigdata/sample_submission.csv\",delimiter=\",\")"
   ]
  },
  {
   "cell_type": "code",
   "execution_count": 3,
   "metadata": {
    "colab": {
     "base_uri": "https://localhost:8080/",
     "height": 424
    },
    "id": "Lyl7UQapzChT",
    "outputId": "e0ae1ecc-1b34-444b-a15d-115bba3a4d40"
   },
   "outputs": [
    {
     "data": {
      "text/html": [
       "<div>\n",
       "<style scoped>\n",
       "    .dataframe tbody tr th:only-of-type {\n",
       "        vertical-align: middle;\n",
       "    }\n",
       "\n",
       "    .dataframe tbody tr th {\n",
       "        vertical-align: top;\n",
       "    }\n",
       "\n",
       "    .dataframe thead th {\n",
       "        text-align: right;\n",
       "    }\n",
       "</style>\n",
       "<table border=\"1\" class=\"dataframe\">\n",
       "  <thead>\n",
       "    <tr style=\"text-align: right;\">\n",
       "      <th></th>\n",
       "      <th>id</th>\n",
       "      <th>date</th>\n",
       "      <th>customers</th>\n",
       "      <th>open</th>\n",
       "      <th>promo</th>\n",
       "      <th>state_holliday</th>\n",
       "      <th>school_holiday</th>\n",
       "      <th>y</th>\n",
       "    </tr>\n",
       "  </thead>\n",
       "  <tbody>\n",
       "    <tr>\n",
       "      <th>0</th>\n",
       "      <td>1042</td>\n",
       "      <td>2013-01-01</td>\n",
       "      <td>0</td>\n",
       "      <td>0</td>\n",
       "      <td>0</td>\n",
       "      <td>a</td>\n",
       "      <td>1</td>\n",
       "      <td>0</td>\n",
       "    </tr>\n",
       "    <tr>\n",
       "      <th>1</th>\n",
       "      <td>128</td>\n",
       "      <td>2013-01-01</td>\n",
       "      <td>0</td>\n",
       "      <td>0</td>\n",
       "      <td>0</td>\n",
       "      <td>a</td>\n",
       "      <td>1</td>\n",
       "      <td>0</td>\n",
       "    </tr>\n",
       "    <tr>\n",
       "      <th>2</th>\n",
       "      <td>420</td>\n",
       "      <td>2013-01-01</td>\n",
       "      <td>0</td>\n",
       "      <td>0</td>\n",
       "      <td>0</td>\n",
       "      <td>a</td>\n",
       "      <td>1</td>\n",
       "      <td>0</td>\n",
       "    </tr>\n",
       "    <tr>\n",
       "      <th>3</th>\n",
       "      <td>225</td>\n",
       "      <td>2013-01-01</td>\n",
       "      <td>0</td>\n",
       "      <td>0</td>\n",
       "      <td>0</td>\n",
       "      <td>a</td>\n",
       "      <td>1</td>\n",
       "      <td>0</td>\n",
       "    </tr>\n",
       "    <tr>\n",
       "      <th>4</th>\n",
       "      <td>144</td>\n",
       "      <td>2013-01-01</td>\n",
       "      <td>0</td>\n",
       "      <td>0</td>\n",
       "      <td>0</td>\n",
       "      <td>a</td>\n",
       "      <td>1</td>\n",
       "      <td>0</td>\n",
       "    </tr>\n",
       "    <tr>\n",
       "      <th>...</th>\n",
       "      <td>...</td>\n",
       "      <td>...</td>\n",
       "      <td>...</td>\n",
       "      <td>...</td>\n",
       "      <td>...</td>\n",
       "      <td>...</td>\n",
       "      <td>...</td>\n",
       "      <td>...</td>\n",
       "    </tr>\n",
       "    <tr>\n",
       "      <th>813762</th>\n",
       "      <td>757</td>\n",
       "      <td>2015-07-31</td>\n",
       "      <td>684</td>\n",
       "      <td>1</td>\n",
       "      <td>1</td>\n",
       "      <td>0</td>\n",
       "      <td>1</td>\n",
       "      <td>9343</td>\n",
       "    </tr>\n",
       "    <tr>\n",
       "      <th>813763</th>\n",
       "      <td>796</td>\n",
       "      <td>2015-07-31</td>\n",
       "      <td>769</td>\n",
       "      <td>1</td>\n",
       "      <td>1</td>\n",
       "      <td>0</td>\n",
       "      <td>1</td>\n",
       "      <td>8913</td>\n",
       "    </tr>\n",
       "    <tr>\n",
       "      <th>813764</th>\n",
       "      <td>230</td>\n",
       "      <td>2015-07-31</td>\n",
       "      <td>1091</td>\n",
       "      <td>1</td>\n",
       "      <td>1</td>\n",
       "      <td>0</td>\n",
       "      <td>1</td>\n",
       "      <td>10988</td>\n",
       "    </tr>\n",
       "    <tr>\n",
       "      <th>813765</th>\n",
       "      <td>387</td>\n",
       "      <td>2015-07-31</td>\n",
       "      <td>1402</td>\n",
       "      <td>1</td>\n",
       "      <td>1</td>\n",
       "      <td>0</td>\n",
       "      <td>1</td>\n",
       "      <td>14533</td>\n",
       "    </tr>\n",
       "    <tr>\n",
       "      <th>813766</th>\n",
       "      <td>935</td>\n",
       "      <td>2015-07-31</td>\n",
       "      <td>802</td>\n",
       "      <td>1</td>\n",
       "      <td>1</td>\n",
       "      <td>0</td>\n",
       "      <td>1</td>\n",
       "      <td>8941</td>\n",
       "    </tr>\n",
       "  </tbody>\n",
       "</table>\n",
       "<p>813767 rows × 8 columns</p>\n",
       "</div>"
      ],
      "text/plain": [
       "          id        date  customers  open  promo state_holliday  \\\n",
       "0       1042  2013-01-01          0     0      0              a   \n",
       "1        128  2013-01-01          0     0      0              a   \n",
       "2        420  2013-01-01          0     0      0              a   \n",
       "3        225  2013-01-01          0     0      0              a   \n",
       "4        144  2013-01-01          0     0      0              a   \n",
       "...      ...         ...        ...   ...    ...            ...   \n",
       "813762   757  2015-07-31        684     1      1              0   \n",
       "813763   796  2015-07-31        769     1      1              0   \n",
       "813764   230  2015-07-31       1091     1      1              0   \n",
       "813765   387  2015-07-31       1402     1      1              0   \n",
       "813766   935  2015-07-31        802     1      1              0   \n",
       "\n",
       "        school_holiday      y  \n",
       "0                    1      0  \n",
       "1                    1      0  \n",
       "2                    1      0  \n",
       "3                    1      0  \n",
       "4                    1      0  \n",
       "...                ...    ...  \n",
       "813762               1   9343  \n",
       "813763               1   8913  \n",
       "813764               1  10988  \n",
       "813765               1  14533  \n",
       "813766               1   8941  \n",
       "\n",
       "[813767 rows x 8 columns]"
      ]
     },
     "execution_count": 3,
     "metadata": {},
     "output_type": "execute_result"
    }
   ],
   "source": [
    "train_df"
   ]
  },
  {
   "cell_type": "code",
   "execution_count": 4,
   "metadata": {
    "colab": {
     "base_uri": "https://localhost:8080/",
     "height": 424
    },
    "id": "4Ykyd7EAzyY8",
    "outputId": "6865a519-a067-41bf-8ef7-33f34f38b5a5"
   },
   "outputs": [
    {
     "data": {
      "text/html": [
       "<div>\n",
       "<style scoped>\n",
       "    .dataframe tbody tr th:only-of-type {\n",
       "        vertical-align: middle;\n",
       "    }\n",
       "\n",
       "    .dataframe tbody tr th {\n",
       "        vertical-align: top;\n",
       "    }\n",
       "\n",
       "    .dataframe thead th {\n",
       "        text-align: right;\n",
       "    }\n",
       "</style>\n",
       "<table border=\"1\" class=\"dataframe\">\n",
       "  <thead>\n",
       "    <tr style=\"text-align: right;\">\n",
       "      <th></th>\n",
       "      <th>id</th>\n",
       "      <th>store_type</th>\n",
       "      <th>assortment</th>\n",
       "      <th>promo_interval</th>\n",
       "    </tr>\n",
       "  </thead>\n",
       "  <tbody>\n",
       "    <tr>\n",
       "      <th>0</th>\n",
       "      <td>1</td>\n",
       "      <td>c</td>\n",
       "      <td>a</td>\n",
       "      <td>NaN</td>\n",
       "    </tr>\n",
       "    <tr>\n",
       "      <th>1</th>\n",
       "      <td>2</td>\n",
       "      <td>a</td>\n",
       "      <td>a</td>\n",
       "      <td>Jan,Apr,Jul,Oct</td>\n",
       "    </tr>\n",
       "    <tr>\n",
       "      <th>2</th>\n",
       "      <td>3</td>\n",
       "      <td>a</td>\n",
       "      <td>a</td>\n",
       "      <td>Jan,Apr,Jul,Oct</td>\n",
       "    </tr>\n",
       "    <tr>\n",
       "      <th>3</th>\n",
       "      <td>4</td>\n",
       "      <td>c</td>\n",
       "      <td>c</td>\n",
       "      <td>NaN</td>\n",
       "    </tr>\n",
       "    <tr>\n",
       "      <th>4</th>\n",
       "      <td>5</td>\n",
       "      <td>a</td>\n",
       "      <td>a</td>\n",
       "      <td>NaN</td>\n",
       "    </tr>\n",
       "    <tr>\n",
       "      <th>...</th>\n",
       "      <td>...</td>\n",
       "      <td>...</td>\n",
       "      <td>...</td>\n",
       "      <td>...</td>\n",
       "    </tr>\n",
       "    <tr>\n",
       "      <th>1110</th>\n",
       "      <td>1111</td>\n",
       "      <td>a</td>\n",
       "      <td>a</td>\n",
       "      <td>Jan,Apr,Jul,Oct</td>\n",
       "    </tr>\n",
       "    <tr>\n",
       "      <th>1111</th>\n",
       "      <td>1112</td>\n",
       "      <td>c</td>\n",
       "      <td>c</td>\n",
       "      <td>NaN</td>\n",
       "    </tr>\n",
       "    <tr>\n",
       "      <th>1112</th>\n",
       "      <td>1113</td>\n",
       "      <td>a</td>\n",
       "      <td>c</td>\n",
       "      <td>NaN</td>\n",
       "    </tr>\n",
       "    <tr>\n",
       "      <th>1113</th>\n",
       "      <td>1114</td>\n",
       "      <td>a</td>\n",
       "      <td>c</td>\n",
       "      <td>NaN</td>\n",
       "    </tr>\n",
       "    <tr>\n",
       "      <th>1114</th>\n",
       "      <td>1115</td>\n",
       "      <td>d</td>\n",
       "      <td>c</td>\n",
       "      <td>Mar,Jun,Sept,Dec</td>\n",
       "    </tr>\n",
       "  </tbody>\n",
       "</table>\n",
       "<p>1115 rows × 4 columns</p>\n",
       "</div>"
      ],
      "text/plain": [
       "        id store_type assortment    promo_interval\n",
       "0        1          c          a               NaN\n",
       "1        2          a          a   Jan,Apr,Jul,Oct\n",
       "2        3          a          a   Jan,Apr,Jul,Oct\n",
       "3        4          c          c               NaN\n",
       "4        5          a          a               NaN\n",
       "...    ...        ...        ...               ...\n",
       "1110  1111          a          a   Jan,Apr,Jul,Oct\n",
       "1111  1112          c          c               NaN\n",
       "1112  1113          a          c               NaN\n",
       "1113  1114          a          c               NaN\n",
       "1114  1115          d          c  Mar,Jun,Sept,Dec\n",
       "\n",
       "[1115 rows x 4 columns]"
      ]
     },
     "execution_count": 4,
     "metadata": {},
     "output_type": "execute_result"
    }
   ],
   "source": [
    "store_df"
   ]
  },
  {
   "cell_type": "markdown",
   "metadata": {
    "id": "R1oDet3J2yQ_"
   },
   "source": [
    "# DATA CLEANING"
   ]
  },
  {
   "cell_type": "code",
   "execution_count": 5,
   "metadata": {
    "colab": {
     "base_uri": "https://localhost:8080/"
    },
    "id": "inQjEUvTz2K8",
    "outputId": "22619171-febd-4901-ca6f-cfa23167a6b8"
   },
   "outputs": [
    {
     "name": "stdout",
     "output_type": "stream",
     "text": [
      "<class 'pandas.core.frame.DataFrame'>\n",
      "RangeIndex: 813767 entries, 0 to 813766\n",
      "Data columns (total 8 columns):\n",
      " #   Column          Non-Null Count   Dtype \n",
      "---  ------          --------------   ----- \n",
      " 0   id              813767 non-null  int64 \n",
      " 1   date            813767 non-null  object\n",
      " 2   customers       813767 non-null  int64 \n",
      " 3   open            813767 non-null  int64 \n",
      " 4   promo           813767 non-null  int64 \n",
      " 5   state_holliday  813767 non-null  object\n",
      " 6   school_holiday  813767 non-null  int64 \n",
      " 7   y               813767 non-null  int64 \n",
      "dtypes: int64(6), object(2)\n",
      "memory usage: 49.7+ MB\n"
     ]
    }
   ],
   "source": [
    "train_df.info()\n"
   ]
  },
  {
   "cell_type": "code",
   "execution_count": 6,
   "metadata": {
    "colab": {
     "base_uri": "https://localhost:8080/"
    },
    "id": "ysvwhOmr03DK",
    "outputId": "abcfb97c-12e7-4fb8-a034-1ff48e9df5e3"
   },
   "outputs": [
    {
     "data": {
      "text/plain": [
       "id                0\n",
       "date              0\n",
       "customers         0\n",
       "open              0\n",
       "promo             0\n",
       "state_holliday    0\n",
       "school_holiday    0\n",
       "y                 0\n",
       "dtype: int64"
      ]
     },
     "execution_count": 6,
     "metadata": {},
     "output_type": "execute_result"
    }
   ],
   "source": [
    "# On remarque que les données d'entrainement ne contiennent pas de valeurs NaN\n",
    "train_df.isna().sum()"
   ]
  },
  {
   "cell_type": "code",
   "execution_count": 7,
   "metadata": {
    "id": "uypzYadZ04jo"
   },
   "outputs": [],
   "source": [
    "# Supprimer les données dupliquées\n",
    "train_df = train_df.drop_duplicates()"
   ]
  },
  {
   "cell_type": "code",
   "execution_count": 8,
   "metadata": {
    "colab": {
     "base_uri": "https://localhost:8080/"
    },
    "id": "BJRh5LOJ3cA1",
    "outputId": "66759951-281d-4baa-b9ee-4dd364be8a3f"
   },
   "outputs": [
    {
     "name": "stdout",
     "output_type": "stream",
     "text": [
      "unique open values :[0 1]\n",
      "unique promo values :[0 1]\n",
      "unique state_holliday values :['a' '0' 'b' 'c' 0]\n",
      "unique school_holiday values :[1 0]\n"
     ]
    }
   ],
   "source": [
    "print(f\"unique open values :{train_df['open'].unique()}\")\n",
    "print(f\"unique promo values :{train_df['promo'].unique()}\")\n",
    "print(f\"unique state_holliday values :{train_df['state_holliday'].unique()}\")\n",
    "print(f\"unique school_holiday values :{train_df['school_holiday'].unique()}\")"
   ]
  },
  {
   "cell_type": "markdown",
   "metadata": {
    "id": "GtdhWk5D6n0f"
   },
   "source": [
    "### state_holliday"
   ]
  },
  {
   "cell_type": "code",
   "execution_count": 9,
   "metadata": {
    "colab": {
     "base_uri": "https://localhost:8080/"
    },
    "id": "j4KeIFoL37ks",
    "outputId": "c8f20882-1199-4f2e-e516-5946ac942c62"
   },
   "outputs": [
    {
     "data": {
      "text/plain": [
       "0    761641\n",
       "0     27335\n",
       "a     16201\n",
       "b      5322\n",
       "c      3268\n",
       "Name: state_holliday, dtype: int64"
      ]
     },
     "execution_count": 9,
     "metadata": {},
     "output_type": "execute_result"
    }
   ],
   "source": [
    "# Observer les valeurs possibles de state_holliday\n",
    "train_df['state_holliday'].value_counts()"
   ]
  },
  {
   "cell_type": "code",
   "execution_count": 10,
   "metadata": {
    "id": "N_vWkWz74hkJ"
   },
   "outputs": [],
   "source": [
    "# Puisque state_holiday est binaire, on considère '0' , 0 => 0 et 'a','b','c' => 1\n",
    "train_df['state_holliday'] = train_df['state_holliday'].apply(lambda x : 0 if str(x)==\"0\" else 1)"
   ]
  },
  {
   "cell_type": "code",
   "execution_count": 11,
   "metadata": {
    "colab": {
     "base_uri": "https://localhost:8080/"
    },
    "id": "Zmx_q2_v6iI3",
    "outputId": "8e9fb744-2fa9-48e9-8ebe-be32ffa4419d"
   },
   "outputs": [
    {
     "data": {
      "text/plain": [
       "0    788976\n",
       "1     24791\n",
       "Name: state_holliday, dtype: int64"
      ]
     },
     "execution_count": 11,
     "metadata": {},
     "output_type": "execute_result"
    }
   ],
   "source": [
    "train_df['state_holliday'].value_counts()"
   ]
  },
  {
   "cell_type": "markdown",
   "metadata": {
    "id": "jZYVjfl06qSn"
   },
   "source": [
    "### Open Var"
   ]
  },
  {
   "cell_type": "code",
   "execution_count": 12,
   "metadata": {
    "colab": {
     "base_uri": "https://localhost:8080/",
     "height": 49
    },
    "id": "Paiw1F4n7fge",
    "outputId": "4b87f081-b7f7-4caf-b821-63e047979e63"
   },
   "outputs": [
    {
     "data": {
      "text/html": [
       "<div>\n",
       "<style scoped>\n",
       "    .dataframe tbody tr th:only-of-type {\n",
       "        vertical-align: middle;\n",
       "    }\n",
       "\n",
       "    .dataframe tbody tr th {\n",
       "        vertical-align: top;\n",
       "    }\n",
       "\n",
       "    .dataframe thead th {\n",
       "        text-align: right;\n",
       "    }\n",
       "</style>\n",
       "<table border=\"1\" class=\"dataframe\">\n",
       "  <thead>\n",
       "    <tr style=\"text-align: right;\">\n",
       "      <th></th>\n",
       "      <th>id</th>\n",
       "      <th>date</th>\n",
       "      <th>customers</th>\n",
       "      <th>open</th>\n",
       "      <th>promo</th>\n",
       "      <th>state_holliday</th>\n",
       "      <th>school_holiday</th>\n",
       "      <th>y</th>\n",
       "    </tr>\n",
       "  </thead>\n",
       "  <tbody>\n",
       "  </tbody>\n",
       "</table>\n",
       "</div>"
      ],
      "text/plain": [
       "Empty DataFrame\n",
       "Columns: [id, date, customers, open, promo, state_holliday, school_holiday, y]\n",
       "Index: []"
      ]
     },
     "execution_count": 12,
     "metadata": {},
     "output_type": "execute_result"
    }
   ],
   "source": [
    "# Voir si on dispose dans la base de données un magasin ouvert avec un volume des ventes positif\n",
    "train_df[(train_df['open']==0) & (train_df['y']>0)]"
   ]
  },
  {
   "cell_type": "code",
   "execution_count": 13,
   "metadata": {
    "colab": {
     "base_uri": "https://localhost:8080/"
    },
    "id": "39tMS75x8ZT6",
    "outputId": "98495688-2bf6-4f04-f68c-80f1e8994433"
   },
   "outputs": [
    {
     "data": {
      "text/plain": [
       "0"
      ]
     },
     "execution_count": 13,
     "metadata": {},
     "output_type": "execute_result"
    }
   ],
   "source": [
    "# Volume de vente est toujours positif\n",
    "train_df['y'].min()"
   ]
  },
  {
   "cell_type": "code",
   "execution_count": 14,
   "metadata": {
    "colab": {
     "base_uri": "https://localhost:8080/",
     "height": 49
    },
    "id": "0__loNNe9BGb",
    "outputId": "eaa0366c-14db-4b7f-858b-a3a1e088924c"
   },
   "outputs": [
    {
     "data": {
      "text/html": [
       "<div>\n",
       "<style scoped>\n",
       "    .dataframe tbody tr th:only-of-type {\n",
       "        vertical-align: middle;\n",
       "    }\n",
       "\n",
       "    .dataframe tbody tr th {\n",
       "        vertical-align: top;\n",
       "    }\n",
       "\n",
       "    .dataframe thead th {\n",
       "        text-align: right;\n",
       "    }\n",
       "</style>\n",
       "<table border=\"1\" class=\"dataframe\">\n",
       "  <thead>\n",
       "    <tr style=\"text-align: right;\">\n",
       "      <th></th>\n",
       "      <th>id</th>\n",
       "      <th>date</th>\n",
       "      <th>customers</th>\n",
       "      <th>open</th>\n",
       "      <th>promo</th>\n",
       "      <th>state_holliday</th>\n",
       "      <th>school_holiday</th>\n",
       "      <th>y</th>\n",
       "    </tr>\n",
       "  </thead>\n",
       "  <tbody>\n",
       "  </tbody>\n",
       "</table>\n",
       "</div>"
      ],
      "text/plain": [
       "Empty DataFrame\n",
       "Columns: [id, date, customers, open, promo, state_holliday, school_holiday, y]\n",
       "Index: []"
      ]
     },
     "execution_count": 14,
     "metadata": {},
     "output_type": "execute_result"
    }
   ],
   "source": [
    "test_df[(test_df['open']==0) & (test_df['y']>0)]"
   ]
  },
  {
   "cell_type": "code",
   "execution_count": 15,
   "metadata": {
    "colab": {
     "base_uri": "https://localhost:8080/"
    },
    "id": "YrGypdcv9G7n",
    "outputId": "c94bcf24-49ae-4adc-9094-613b550f23d5"
   },
   "outputs": [
    {
     "data": {
      "text/plain": [
       "0"
      ]
     },
     "execution_count": 15,
     "metadata": {},
     "output_type": "execute_result"
    }
   ],
   "source": [
    "test_df['y'].min()"
   ]
  },
  {
   "cell_type": "code",
   "execution_count": 16,
   "metadata": {
    "id": "wEbO09C_9Ju9"
   },
   "outputs": [],
   "source": [
    "# On déduit qu'on pourra nous en passer de l'input 'open' car quand ce n'est pas open la valeur y est nulle\n",
    "\n",
    "train_df = train_df.drop(columns=['open'])"
   ]
  },
  {
   "cell_type": "code",
   "execution_count": 17,
   "metadata": {
    "colab": {
     "base_uri": "https://localhost:8080/"
    },
    "id": "NucxuffH9mb9",
    "outputId": "5463183d-101b-4c13-be94-d917efe74d48"
   },
   "outputs": [
    {
     "data": {
      "text/plain": [
       "True    813767\n",
       "Name: date, dtype: int64"
      ]
     },
     "execution_count": 17,
     "metadata": {},
     "output_type": "execute_result"
    }
   ],
   "source": [
    "# Vérifier si la variable Date ne prends pas des valeurs abérrantes\n",
    "\n",
    "def chack_date(date):\n",
    "  L = date.split('-')\n",
    "  return len(L)==3 and len(L[0])==4 and len(L[1])==2 and len(L[2])==2\n",
    "train_df['date'].apply(chack_date).value_counts()"
   ]
  },
  {
   "cell_type": "code",
   "execution_count": 18,
   "metadata": {
    "id": "83RtbBfN6kiK"
   },
   "outputs": [],
   "source": [
    "import seaborn as sns"
   ]
  },
  {
   "cell_type": "code",
   "execution_count": 19,
   "metadata": {
    "colab": {
     "base_uri": "https://localhost:8080/",
     "height": 351
    },
    "id": "iND-t5Ox7W1i",
    "outputId": "5da387ee-f87f-4e54-d323-76c716313852",
    "scrolled": true
   },
   "outputs": [
    {
     "data": {
      "text/plain": [
       "<AxesSubplot:>"
      ]
     },
     "execution_count": 19,
     "metadata": {},
     "output_type": "execute_result"
    },
    {
     "data": {
      "image/png": "[encoded data removed]",
      "text/plain": [
       "<Figure size 432x288 with 2 Axes>"
      ]
     },
     "metadata": {
      "needs_background": "light"
     },
     "output_type": "display_data"
    }
   ],
   "source": [
    "# Corrélation entre la variables; on remarque que le nombre de clients a une grande influence sur la nombre de ventes\n",
    "\n",
    "sns.heatmap(train_df.drop(columns=['id']).corr(), annot=True)"
   ]
  },
  {
   "cell_type": "code",
   "execution_count": 20,
   "metadata": {
    "colab": {
     "base_uri": "https://localhost:8080/",
     "height": 1000
    },
    "id": "nLhOZC69-o6d",
    "outputId": "bc3e11a5-aefb-485a-92dd-4f83814996b0"
   },
   "outputs": [
    {
     "data": {
      "text/plain": [
       "array([[<AxesSubplot:xlabel='customers', ylabel='customers'>,\n",
       "        <AxesSubplot:xlabel='promo', ylabel='customers'>,\n",
       "        <AxesSubplot:xlabel='state_holliday', ylabel='customers'>,\n",
       "        <AxesSubplot:xlabel='school_holiday', ylabel='customers'>,\n",
       "        <AxesSubplot:xlabel='y', ylabel='customers'>],\n",
       "       [<AxesSubplot:xlabel='customers', ylabel='promo'>,\n",
       "        <AxesSubplot:xlabel='promo', ylabel='promo'>,\n",
       "        <AxesSubplot:xlabel='state_holliday', ylabel='promo'>,\n",
       "        <AxesSubplot:xlabel='school_holiday', ylabel='promo'>,\n",
       "        <AxesSubplot:xlabel='y', ylabel='promo'>],\n",
       "       [<AxesSubplot:xlabel='customers', ylabel='state_holliday'>,\n",
       "        <AxesSubplot:xlabel='promo', ylabel='state_holliday'>,\n",
       "        <AxesSubplot:xlabel='state_holliday', ylabel='state_holliday'>,\n",
       "        <AxesSubplot:xlabel='school_holiday', ylabel='state_holliday'>,\n",
       "        <AxesSubplot:xlabel='y', ylabel='state_holliday'>],\n",
       "       [<AxesSubplot:xlabel='customers', ylabel='school_holiday'>,\n",
       "        <AxesSubplot:xlabel='promo', ylabel='school_holiday'>,\n",
       "        <AxesSubplot:xlabel='state_holliday', ylabel='school_holiday'>,\n",
       "        <AxesSubplot:xlabel='school_holiday', ylabel='school_holiday'>,\n",
       "        <AxesSubplot:xlabel='y', ylabel='school_holiday'>],\n",
       "       [<AxesSubplot:xlabel='customers', ylabel='y'>,\n",
       "        <AxesSubplot:xlabel='promo', ylabel='y'>,\n",
       "        <AxesSubplot:xlabel='state_holliday', ylabel='y'>,\n",
       "        <AxesSubplot:xlabel='school_holiday', ylabel='y'>,\n",
       "        <AxesSubplot:xlabel='y', ylabel='y'>]], dtype=object)"
      ]
     },
     "execution_count": 20,
     "metadata": {},
     "output_type": "execute_result"
    },
    {
     "data": {
      "image/png": "[encoded data removed]",
      "text/plain": [
       "<Figure size 1080x1080 with 25 Axes>"
      ]
     },
     "metadata": {
      "needs_background": "light"
     },
     "output_type": "display_data"
    }
   ],
   "source": [
    "# On remarque aussi qu'il y a une corrélation linéaire entre 'customers' et 'y'\n",
    "\n",
    "pd.plotting.scatter_matrix(train_df.drop(columns=['id','date']).sample(10000), alpha=0.2, figsize=(15,15))"
   ]
  },
  {
   "cell_type": "markdown",
   "metadata": {
    "id": "_h4Cur9T_J39"
   },
   "source": [
    "#Feature Eng"
   ]
  },
  {
   "cell_type": "code",
   "execution_count": 21,
   "metadata": {
    "colab": {
     "base_uri": "https://localhost:8080/",
     "height": 395
    },
    "id": "G-FSIQBL4wvP",
    "outputId": "7295f920-dc01-4d64-c03b-9ddcb41982cd"
   },
   "outputs": [
    {
     "data": {
      "text/html": [
       "<div>\n",
       "<style scoped>\n",
       "    .dataframe tbody tr th:only-of-type {\n",
       "        vertical-align: middle;\n",
       "    }\n",
       "\n",
       "    .dataframe tbody tr th {\n",
       "        vertical-align: top;\n",
       "    }\n",
       "\n",
       "    .dataframe thead th {\n",
       "        text-align: right;\n",
       "    }\n",
       "</style>\n",
       "<table border=\"1\" class=\"dataframe\">\n",
       "  <thead>\n",
       "    <tr style=\"text-align: right;\">\n",
       "      <th></th>\n",
       "      <th>id</th>\n",
       "      <th>date</th>\n",
       "      <th>customers</th>\n",
       "      <th>promo</th>\n",
       "      <th>state_holliday</th>\n",
       "      <th>school_holiday</th>\n",
       "      <th>y</th>\n",
       "    </tr>\n",
       "  </thead>\n",
       "  <tbody>\n",
       "    <tr>\n",
       "      <th>0</th>\n",
       "      <td>1042</td>\n",
       "      <td>2013-01-01</td>\n",
       "      <td>0</td>\n",
       "      <td>0</td>\n",
       "      <td>1</td>\n",
       "      <td>1</td>\n",
       "      <td>0</td>\n",
       "    </tr>\n",
       "    <tr>\n",
       "      <th>1</th>\n",
       "      <td>128</td>\n",
       "      <td>2013-01-01</td>\n",
       "      <td>0</td>\n",
       "      <td>0</td>\n",
       "      <td>1</td>\n",
       "      <td>1</td>\n",
       "      <td>0</td>\n",
       "    </tr>\n",
       "    <tr>\n",
       "      <th>2</th>\n",
       "      <td>420</td>\n",
       "      <td>2013-01-01</td>\n",
       "      <td>0</td>\n",
       "      <td>0</td>\n",
       "      <td>1</td>\n",
       "      <td>1</td>\n",
       "      <td>0</td>\n",
       "    </tr>\n",
       "    <tr>\n",
       "      <th>3</th>\n",
       "      <td>225</td>\n",
       "      <td>2013-01-01</td>\n",
       "      <td>0</td>\n",
       "      <td>0</td>\n",
       "      <td>1</td>\n",
       "      <td>1</td>\n",
       "      <td>0</td>\n",
       "    </tr>\n",
       "    <tr>\n",
       "      <th>4</th>\n",
       "      <td>144</td>\n",
       "      <td>2013-01-01</td>\n",
       "      <td>0</td>\n",
       "      <td>0</td>\n",
       "      <td>1</td>\n",
       "      <td>1</td>\n",
       "      <td>0</td>\n",
       "    </tr>\n",
       "  </tbody>\n",
       "</table>\n",
       "</div>"
      ],
      "text/plain": [
       "     id        date  customers  promo  state_holliday  school_holiday  y\n",
       "0  1042  2013-01-01          0      0               1               1  0\n",
       "1   128  2013-01-01          0      0               1               1  0\n",
       "2   420  2013-01-01          0      0               1               1  0\n",
       "3   225  2013-01-01          0      0               1               1  0\n",
       "4   144  2013-01-01          0      0               1               1  0"
      ]
     },
     "metadata": {},
     "output_type": "display_data"
    },
    {
     "data": {
      "text/html": [
       "<div>\n",
       "<style scoped>\n",
       "    .dataframe tbody tr th:only-of-type {\n",
       "        vertical-align: middle;\n",
       "    }\n",
       "\n",
       "    .dataframe tbody tr th {\n",
       "        vertical-align: top;\n",
       "    }\n",
       "\n",
       "    .dataframe thead th {\n",
       "        text-align: right;\n",
       "    }\n",
       "</style>\n",
       "<table border=\"1\" class=\"dataframe\">\n",
       "  <thead>\n",
       "    <tr style=\"text-align: right;\">\n",
       "      <th></th>\n",
       "      <th>id</th>\n",
       "      <th>store_type</th>\n",
       "      <th>assortment</th>\n",
       "      <th>promo_interval</th>\n",
       "    </tr>\n",
       "  </thead>\n",
       "  <tbody>\n",
       "    <tr>\n",
       "      <th>0</th>\n",
       "      <td>1</td>\n",
       "      <td>c</td>\n",
       "      <td>a</td>\n",
       "      <td>NaN</td>\n",
       "    </tr>\n",
       "    <tr>\n",
       "      <th>1</th>\n",
       "      <td>2</td>\n",
       "      <td>a</td>\n",
       "      <td>a</td>\n",
       "      <td>Jan,Apr,Jul,Oct</td>\n",
       "    </tr>\n",
       "    <tr>\n",
       "      <th>2</th>\n",
       "      <td>3</td>\n",
       "      <td>a</td>\n",
       "      <td>a</td>\n",
       "      <td>Jan,Apr,Jul,Oct</td>\n",
       "    </tr>\n",
       "    <tr>\n",
       "      <th>3</th>\n",
       "      <td>4</td>\n",
       "      <td>c</td>\n",
       "      <td>c</td>\n",
       "      <td>NaN</td>\n",
       "    </tr>\n",
       "    <tr>\n",
       "      <th>4</th>\n",
       "      <td>5</td>\n",
       "      <td>a</td>\n",
       "      <td>a</td>\n",
       "      <td>NaN</td>\n",
       "    </tr>\n",
       "  </tbody>\n",
       "</table>\n",
       "</div>"
      ],
      "text/plain": [
       "   id store_type assortment   promo_interval\n",
       "0   1          c          a              NaN\n",
       "1   2          a          a  Jan,Apr,Jul,Oct\n",
       "2   3          a          a  Jan,Apr,Jul,Oct\n",
       "3   4          c          c              NaN\n",
       "4   5          a          a              NaN"
      ]
     },
     "metadata": {},
     "output_type": "display_data"
    }
   ],
   "source": [
    "display(train_df.head())\n",
    "display(store_df.head())"
   ]
  },
  {
   "cell_type": "code",
   "execution_count": 22,
   "metadata": {
    "colab": {
     "base_uri": "https://localhost:8080/"
    },
    "id": "61MzItpx5TuR",
    "outputId": "39e4e0e7-dbf5-401d-9cd2-e5a487d00a27"
   },
   "outputs": [
    {
     "data": {
      "text/plain": [
       "a    602\n",
       "d    348\n",
       "c    148\n",
       "b     17\n",
       "Name: store_type, dtype: int64"
      ]
     },
     "execution_count": 22,
     "metadata": {},
     "output_type": "execute_result"
    }
   ],
   "source": [
    "# Les valeurs possibles de 'store_type'\n",
    "\n",
    "store_df['store_type'].value_counts()"
   ]
  },
  {
   "cell_type": "code",
   "execution_count": 23,
   "metadata": {
    "colab": {
     "base_uri": "https://localhost:8080/"
    },
    "id": "UUZphNZk9hWr",
    "outputId": "9e793058-176a-43e2-990e-21366d116115"
   },
   "outputs": [
    {
     "data": {
      "text/plain": [
       "a    593\n",
       "c    513\n",
       "b      9\n",
       "Name: assortment, dtype: int64"
      ]
     },
     "execution_count": 23,
     "metadata": {},
     "output_type": "execute_result"
    }
   ],
   "source": [
    "# Les valeurs possibles de 'assortment'\n",
    "\n",
    "store_df['assortment'].value_counts()"
   ]
  },
  {
   "cell_type": "code",
   "execution_count": 24,
   "metadata": {
    "colab": {
     "base_uri": "https://localhost:8080/"
    },
    "id": "mAcCBZCP-SnI",
    "outputId": "d879b01d-e06e-4b23-eb08-6b5209ff51b5"
   },
   "outputs": [
    {
     "data": {
      "text/plain": [
       "Jan,Apr,Jul,Oct     335\n",
       "Feb,May,Aug,Nov     130\n",
       "Mar,Jun,Sept,Dec    106\n",
       "Name: promo_interval, dtype: int64"
      ]
     },
     "execution_count": 24,
     "metadata": {},
     "output_type": "execute_result"
    }
   ],
   "source": [
    "# Les valeurs possibles de 'promo_interval'\n",
    "\n",
    "store_df['promo_interval'].value_counts()"
   ]
  },
  {
   "cell_type": "markdown",
   "metadata": {
    "id": "LsHHx9D9_Na0"
   },
   "source": [
    "### One hot encoding"
   ]
  },
  {
   "cell_type": "code",
   "execution_count": 25,
   "metadata": {
    "colab": {
     "base_uri": "https://localhost:8080/",
     "height": 424
    },
    "id": "BwEe0snp_HJ4",
    "outputId": "b8dd91d1-75de-4c99-ce6d-c48787ebe354"
   },
   "outputs": [
    {
     "data": {
      "text/html": [
       "<div>\n",
       "<style scoped>\n",
       "    .dataframe tbody tr th:only-of-type {\n",
       "        vertical-align: middle;\n",
       "    }\n",
       "\n",
       "    .dataframe tbody tr th {\n",
       "        vertical-align: top;\n",
       "    }\n",
       "\n",
       "    .dataframe thead th {\n",
       "        text-align: right;\n",
       "    }\n",
       "</style>\n",
       "<table border=\"1\" class=\"dataframe\">\n",
       "  <thead>\n",
       "    <tr style=\"text-align: right;\">\n",
       "      <th></th>\n",
       "      <th>id</th>\n",
       "      <th>date</th>\n",
       "      <th>customers</th>\n",
       "      <th>promo</th>\n",
       "      <th>state_holliday</th>\n",
       "      <th>school_holiday</th>\n",
       "      <th>y</th>\n",
       "      <th>store_a</th>\n",
       "      <th>store_b</th>\n",
       "      <th>store_c</th>\n",
       "      <th>store_d</th>\n",
       "      <th>assor_a</th>\n",
       "      <th>assor_b</th>\n",
       "      <th>assor_c</th>\n",
       "      <th>promo_Feb,May,Aug,Nov</th>\n",
       "      <th>promo_Jan,Apr,Jul,Oct</th>\n",
       "      <th>promo_Mar,Jun,Sept,Dec</th>\n",
       "    </tr>\n",
       "  </thead>\n",
       "  <tbody>\n",
       "    <tr>\n",
       "      <th>0</th>\n",
       "      <td>1042</td>\n",
       "      <td>2013-01-01</td>\n",
       "      <td>0</td>\n",
       "      <td>0</td>\n",
       "      <td>1</td>\n",
       "      <td>1</td>\n",
       "      <td>0</td>\n",
       "      <td>1</td>\n",
       "      <td>0</td>\n",
       "      <td>0</td>\n",
       "      <td>0</td>\n",
       "      <td>1</td>\n",
       "      <td>0</td>\n",
       "      <td>0</td>\n",
       "      <td>1</td>\n",
       "      <td>0</td>\n",
       "      <td>0</td>\n",
       "    </tr>\n",
       "    <tr>\n",
       "      <th>1</th>\n",
       "      <td>1042</td>\n",
       "      <td>2013-01-02</td>\n",
       "      <td>548</td>\n",
       "      <td>0</td>\n",
       "      <td>0</td>\n",
       "      <td>1</td>\n",
       "      <td>3628</td>\n",
       "      <td>1</td>\n",
       "      <td>0</td>\n",
       "      <td>0</td>\n",
       "      <td>0</td>\n",
       "      <td>1</td>\n",
       "      <td>0</td>\n",
       "      <td>0</td>\n",
       "      <td>1</td>\n",
       "      <td>0</td>\n",
       "      <td>0</td>\n",
       "    </tr>\n",
       "    <tr>\n",
       "      <th>2</th>\n",
       "      <td>1042</td>\n",
       "      <td>2013-01-04</td>\n",
       "      <td>528</td>\n",
       "      <td>0</td>\n",
       "      <td>0</td>\n",
       "      <td>1</td>\n",
       "      <td>3627</td>\n",
       "      <td>1</td>\n",
       "      <td>0</td>\n",
       "      <td>0</td>\n",
       "      <td>0</td>\n",
       "      <td>1</td>\n",
       "      <td>0</td>\n",
       "      <td>0</td>\n",
       "      <td>1</td>\n",
       "      <td>0</td>\n",
       "      <td>0</td>\n",
       "    </tr>\n",
       "    <tr>\n",
       "      <th>3</th>\n",
       "      <td>1042</td>\n",
       "      <td>2013-01-05</td>\n",
       "      <td>425</td>\n",
       "      <td>0</td>\n",
       "      <td>0</td>\n",
       "      <td>0</td>\n",
       "      <td>2562</td>\n",
       "      <td>1</td>\n",
       "      <td>0</td>\n",
       "      <td>0</td>\n",
       "      <td>0</td>\n",
       "      <td>1</td>\n",
       "      <td>0</td>\n",
       "      <td>0</td>\n",
       "      <td>1</td>\n",
       "      <td>0</td>\n",
       "      <td>0</td>\n",
       "    </tr>\n",
       "    <tr>\n",
       "      <th>4</th>\n",
       "      <td>1042</td>\n",
       "      <td>2013-01-06</td>\n",
       "      <td>0</td>\n",
       "      <td>0</td>\n",
       "      <td>0</td>\n",
       "      <td>0</td>\n",
       "      <td>0</td>\n",
       "      <td>1</td>\n",
       "      <td>0</td>\n",
       "      <td>0</td>\n",
       "      <td>0</td>\n",
       "      <td>1</td>\n",
       "      <td>0</td>\n",
       "      <td>0</td>\n",
       "      <td>1</td>\n",
       "      <td>0</td>\n",
       "      <td>0</td>\n",
       "    </tr>\n",
       "    <tr>\n",
       "      <th>...</th>\n",
       "      <td>...</td>\n",
       "      <td>...</td>\n",
       "      <td>...</td>\n",
       "      <td>...</td>\n",
       "      <td>...</td>\n",
       "      <td>...</td>\n",
       "      <td>...</td>\n",
       "      <td>...</td>\n",
       "      <td>...</td>\n",
       "      <td>...</td>\n",
       "      <td>...</td>\n",
       "      <td>...</td>\n",
       "      <td>...</td>\n",
       "      <td>...</td>\n",
       "      <td>...</td>\n",
       "      <td>...</td>\n",
       "      <td>...</td>\n",
       "    </tr>\n",
       "    <tr>\n",
       "      <th>813762</th>\n",
       "      <td>35</td>\n",
       "      <td>2015-07-27</td>\n",
       "      <td>828</td>\n",
       "      <td>1</td>\n",
       "      <td>0</td>\n",
       "      <td>1</td>\n",
       "      <td>13740</td>\n",
       "      <td>0</td>\n",
       "      <td>0</td>\n",
       "      <td>0</td>\n",
       "      <td>1</td>\n",
       "      <td>0</td>\n",
       "      <td>0</td>\n",
       "      <td>1</td>\n",
       "      <td>0</td>\n",
       "      <td>1</td>\n",
       "      <td>0</td>\n",
       "    </tr>\n",
       "    <tr>\n",
       "      <th>813763</th>\n",
       "      <td>35</td>\n",
       "      <td>2015-07-28</td>\n",
       "      <td>711</td>\n",
       "      <td>1</td>\n",
       "      <td>0</td>\n",
       "      <td>1</td>\n",
       "      <td>10877</td>\n",
       "      <td>0</td>\n",
       "      <td>0</td>\n",
       "      <td>0</td>\n",
       "      <td>1</td>\n",
       "      <td>0</td>\n",
       "      <td>0</td>\n",
       "      <td>1</td>\n",
       "      <td>0</td>\n",
       "      <td>1</td>\n",
       "      <td>0</td>\n",
       "    </tr>\n",
       "    <tr>\n",
       "      <th>813764</th>\n",
       "      <td>35</td>\n",
       "      <td>2015-07-29</td>\n",
       "      <td>662</td>\n",
       "      <td>1</td>\n",
       "      <td>0</td>\n",
       "      <td>1</td>\n",
       "      <td>10634</td>\n",
       "      <td>0</td>\n",
       "      <td>0</td>\n",
       "      <td>0</td>\n",
       "      <td>1</td>\n",
       "      <td>0</td>\n",
       "      <td>0</td>\n",
       "      <td>1</td>\n",
       "      <td>0</td>\n",
       "      <td>1</td>\n",
       "      <td>0</td>\n",
       "    </tr>\n",
       "    <tr>\n",
       "      <th>813765</th>\n",
       "      <td>35</td>\n",
       "      <td>2015-07-30</td>\n",
       "      <td>727</td>\n",
       "      <td>1</td>\n",
       "      <td>0</td>\n",
       "      <td>1</td>\n",
       "      <td>11088</td>\n",
       "      <td>0</td>\n",
       "      <td>0</td>\n",
       "      <td>0</td>\n",
       "      <td>1</td>\n",
       "      <td>0</td>\n",
       "      <td>0</td>\n",
       "      <td>1</td>\n",
       "      <td>0</td>\n",
       "      <td>1</td>\n",
       "      <td>0</td>\n",
       "    </tr>\n",
       "    <tr>\n",
       "      <th>813766</th>\n",
       "      <td>35</td>\n",
       "      <td>2015-07-31</td>\n",
       "      <td>777</td>\n",
       "      <td>1</td>\n",
       "      <td>0</td>\n",
       "      <td>1</td>\n",
       "      <td>12412</td>\n",
       "      <td>0</td>\n",
       "      <td>0</td>\n",
       "      <td>0</td>\n",
       "      <td>1</td>\n",
       "      <td>0</td>\n",
       "      <td>0</td>\n",
       "      <td>1</td>\n",
       "      <td>0</td>\n",
       "      <td>1</td>\n",
       "      <td>0</td>\n",
       "    </tr>\n",
       "  </tbody>\n",
       "</table>\n",
       "<p>813767 rows × 17 columns</p>\n",
       "</div>"
      ],
      "text/plain": [
       "          id        date  customers  promo  state_holliday  school_holiday  \\\n",
       "0       1042  2013-01-01          0      0               1               1   \n",
       "1       1042  2013-01-02        548      0               0               1   \n",
       "2       1042  2013-01-04        528      0               0               1   \n",
       "3       1042  2013-01-05        425      0               0               0   \n",
       "4       1042  2013-01-06          0      0               0               0   \n",
       "...      ...         ...        ...    ...             ...             ...   \n",
       "813762    35  2015-07-27        828      1               0               1   \n",
       "813763    35  2015-07-28        711      1               0               1   \n",
       "813764    35  2015-07-29        662      1               0               1   \n",
       "813765    35  2015-07-30        727      1               0               1   \n",
       "813766    35  2015-07-31        777      1               0               1   \n",
       "\n",
       "            y  store_a  store_b  store_c  store_d  assor_a  assor_b  assor_c  \\\n",
       "0           0        1        0        0        0        1        0        0   \n",
       "1        3628        1        0        0        0        1        0        0   \n",
       "2        3627        1        0        0        0        1        0        0   \n",
       "3        2562        1        0        0        0        1        0        0   \n",
       "4           0        1        0        0        0        1        0        0   \n",
       "...       ...      ...      ...      ...      ...      ...      ...      ...   \n",
       "813762  13740        0        0        0        1        0        0        1   \n",
       "813763  10877        0        0        0        1        0        0        1   \n",
       "813764  10634        0        0        0        1        0        0        1   \n",
       "813765  11088        0        0        0        1        0        0        1   \n",
       "813766  12412        0        0        0        1        0        0        1   \n",
       "\n",
       "        promo_Feb,May,Aug,Nov  promo_Jan,Apr,Jul,Oct  promo_Mar,Jun,Sept,Dec  \n",
       "0                           1                      0                       0  \n",
       "1                           1                      0                       0  \n",
       "2                           1                      0                       0  \n",
       "3                           1                      0                       0  \n",
       "4                           1                      0                       0  \n",
       "...                       ...                    ...                     ...  \n",
       "813762                      0                      1                       0  \n",
       "813763                      0                      1                       0  \n",
       "813764                      0                      1                       0  \n",
       "813765                      0                      1                       0  \n",
       "813766                      0                      1                       0  \n",
       "\n",
       "[813767 rows x 17 columns]"
      ]
     },
     "execution_count": 25,
     "metadata": {},
     "output_type": "execute_result"
    }
   ],
   "source": [
    "# Merger les jeux de données train_df et store_df selon l'id en donnant des valeurs binaires pour chaque type de magasin...\n",
    "\n",
    "train_df_merged = train_df\n",
    "for col in ['store_type', 'assortment', 'promo_interval']:\n",
    "    df1 = pd.get_dummies(store_df[col], prefix=col[:5])\n",
    "    df1.index.names = ['id']\n",
    "    df1.index += 1\n",
    "    train_df_merged = pd.merge(train_df_merged,df1, how ='outer',on='id')\n",
    "\n",
    "train_df_merged"
   ]
  },
  {
   "cell_type": "code",
   "execution_count": 26,
   "metadata": {
    "id": "L6iehZdf3zp9"
   },
   "outputs": [],
   "source": [
    "#Supprimer la colonne Date\n",
    "\n",
    "train_df_new = train_df_merged.drop(columns=['date'])"
   ]
  },
  {
   "cell_type": "code",
   "execution_count": null,
   "metadata": {},
   "outputs": [],
   "source": []
  }
 ],
 "metadata": {
  "colab": {
   "collapsed_sections": [],
   "name": "ProjetDATA.ipynb",
   "provenance": []
  },
  "kernelspec": {
   "display_name": "Python 3",
   "language": "python",
   "name": "python3"
  },
  "language_info": {
   "codemirror_mode": {
    "name": "ipython",
    "version": 3
   },
   "file_extension": ".py",
   "mimetype": "text/x-python",
   "name": "python",
   "nbconvert_exporter": "python",
   "pygments_lexer": "ipython3",
   "version": "3.8.5"
  }
 },
 "nbformat": 4,
 "nbformat_minor": 1
}
